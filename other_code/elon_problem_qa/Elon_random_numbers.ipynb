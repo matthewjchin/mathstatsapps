{
 "cells": [
  {
   "cell_type": "code",
   "execution_count": 1,
   "metadata": {},
   "outputs": [],
   "source": [
    "import numpy as np\n",
    "import pandas as pd\n",
    "import statsmodels.api as sm\n",
    "from statsmodels.formula.api import ols"
   ]
  },
  {
   "cell_type": "markdown",
   "metadata": {},
   "source": [
    "### Generate X: an array of random observations from a standard normal distribution. The array consists of 10000 columns each with 20 rows."
   ]
  },
  {
   "cell_type": "markdown",
   "metadata": {},
   "source": [
    "### Also generate y: a list of 20 standard normal observations. "
   ]
  },
  {
   "cell_type": "markdown",
   "metadata": {},
   "source": [
    "Notes: \n",
    "* Any column of X should have no relationship with y: they are both generated randomly!\n",
    "* the ```np.random.seed(0)``` command simply seeds the random number generator so that we all get the same numbers. "
   ]
  },
  {
   "cell_type": "code",
   "execution_count": 2,
   "metadata": {},
   "outputs": [],
   "source": [
    "np.random.seed(0)\n",
    "X=np.random.randn(20,10000)\n",
    "y=np.random.randn(20)"
   ]
  },
  {
   "cell_type": "code",
   "execution_count": 3,
   "metadata": {},
   "outputs": [
    {
     "name": "stdout",
     "output_type": "stream",
     "text": [
      "(20, 10000) (20,)\n"
     ]
    }
   ],
   "source": [
    "# Is there supposed to be another term in use for y\n",
    "print(X.shape,y.shape)"
   ]
  },
  {
   "cell_type": "code",
   "execution_count": 4,
   "metadata": {},
   "outputs": [
    {
     "data": {
      "text/plain": [
       "(20,)"
      ]
     },
     "execution_count": 4,
     "metadata": {},
     "output_type": "execute_result"
    }
   ],
   "source": [
    "# Is there something missing for y\n",
    "X[:,0].shape"
   ]
  },
  {
   "cell_type": "markdown",
   "metadata": {},
   "source": [
    "### Now choose the three columns of X most correlated with y:"
   ]
  },
  {
   "cell_type": "code",
   "execution_count": 5,
   "metadata": {},
   "outputs": [],
   "source": [
    "corr=[]"
   ]
  },
  {
   "cell_type": "code",
   "execution_count": 6,
   "metadata": {},
   "outputs": [],
   "source": [
    "for i in range(10000):\n",
    "    corr.append(np.corrcoef(X[:,i],y)[0][1])"
   ]
  },
  {
   "cell_type": "code",
   "execution_count": 7,
   "metadata": {},
   "outputs": [
    {
     "data": {
      "text/plain": [
       "array([3681, 1697, 9249])"
      ]
     },
     "execution_count": 7,
     "metadata": {},
     "output_type": "execute_result"
    }
   ],
   "source": [
    "np.array(corr).argsort()[-3:]"
   ]
  },
  {
   "cell_type": "markdown",
   "metadata": {},
   "source": [
    "### Put those 3 columns, along with y, in a data frame..."
   ]
  },
  {
   "cell_type": "code",
   "execution_count": 8,
   "metadata": {},
   "outputs": [],
   "source": [
    "df=pd.DataFrame(X[:,np.array(corr).argsort()[-3:]],columns=['Col1',\"Col2\",\"Col3\"])"
   ]
  },
  {
   "cell_type": "code",
   "execution_count": 9,
   "metadata": {},
   "outputs": [],
   "source": [
    "df['y']=y"
   ]
  },
  {
   "cell_type": "code",
   "execution_count": 10,
   "metadata": {},
   "outputs": [
    {
     "data": {
      "text/html": [
       "<div>\n",
       "<style scoped>\n",
       "    .dataframe tbody tr th:only-of-type {\n",
       "        vertical-align: middle;\n",
       "    }\n",
       "\n",
       "    .dataframe tbody tr th {\n",
       "        vertical-align: top;\n",
       "    }\n",
       "\n",
       "    .dataframe thead th {\n",
       "        text-align: right;\n",
       "    }\n",
       "</style>\n",
       "<table border=\"1\" class=\"dataframe\">\n",
       "  <thead>\n",
       "    <tr style=\"text-align: right;\">\n",
       "      <th></th>\n",
       "      <th>Col1</th>\n",
       "      <th>Col2</th>\n",
       "      <th>Col3</th>\n",
       "      <th>y</th>\n",
       "    </tr>\n",
       "  </thead>\n",
       "  <tbody>\n",
       "    <tr>\n",
       "      <th>0</th>\n",
       "      <td>1.520004</td>\n",
       "      <td>0.171244</td>\n",
       "      <td>-0.146930</td>\n",
       "      <td>0.039510</td>\n",
       "    </tr>\n",
       "    <tr>\n",
       "      <th>1</th>\n",
       "      <td>0.118086</td>\n",
       "      <td>0.643488</td>\n",
       "      <td>0.239815</td>\n",
       "      <td>0.338378</td>\n",
       "    </tr>\n",
       "    <tr>\n",
       "      <th>2</th>\n",
       "      <td>-0.455489</td>\n",
       "      <td>-1.229948</td>\n",
       "      <td>0.058524</td>\n",
       "      <td>-0.842183</td>\n",
       "    </tr>\n",
       "    <tr>\n",
       "      <th>3</th>\n",
       "      <td>0.786997</td>\n",
       "      <td>-0.255133</td>\n",
       "      <td>0.337896</td>\n",
       "      <td>-0.049632</td>\n",
       "    </tr>\n",
       "    <tr>\n",
       "      <th>4</th>\n",
       "      <td>-0.070668</td>\n",
       "      <td>-0.753288</td>\n",
       "      <td>-2.140309</td>\n",
       "      <td>-1.230245</td>\n",
       "    </tr>\n",
       "  </tbody>\n",
       "</table>\n",
       "</div>"
      ],
      "text/plain": [
       "       Col1      Col2      Col3         y\n",
       "0  1.520004  0.171244 -0.146930  0.039510\n",
       "1  0.118086  0.643488  0.239815  0.338378\n",
       "2 -0.455489 -1.229948  0.058524 -0.842183\n",
       "3  0.786997 -0.255133  0.337896 -0.049632\n",
       "4 -0.070668 -0.753288 -2.140309 -1.230245"
      ]
     },
     "execution_count": 10,
     "metadata": {},
     "output_type": "execute_result"
    }
   ],
   "source": [
    "df.head()"
   ]
  },
  {
   "cell_type": "markdown",
   "metadata": {},
   "source": [
    "### And build a regression model predicting y using the 3 columns:"
   ]
  },
  {
   "cell_type": "code",
   "execution_count": 11,
   "metadata": {},
   "outputs": [
    {
     "data": {
      "text/html": [
       "<table class=\"simpletable\">\n",
       "<caption>OLS Regression Results</caption>\n",
       "<tr>\n",
       "  <th>Dep. Variable:</th>            <td>y</td>        <th>  R-squared:         </th> <td>   0.801</td>\n",
       "</tr>\n",
       "<tr>\n",
       "  <th>Model:</th>                   <td>OLS</td>       <th>  Adj. R-squared:    </th> <td>   0.764</td>\n",
       "</tr>\n",
       "<tr>\n",
       "  <th>Method:</th>             <td>Least Squares</td>  <th>  F-statistic:       </th> <td>   21.51</td>\n",
       "</tr>\n",
       "<tr>\n",
       "  <th>Date:</th>             <td>Tue, 18 May 2021</td> <th>  Prob (F-statistic):</th> <td>7.36e-06</td>\n",
       "</tr>\n",
       "<tr>\n",
       "  <th>Time:</th>                 <td>00:43:15</td>     <th>  Log-Likelihood:    </th> <td> -10.741</td>\n",
       "</tr>\n",
       "<tr>\n",
       "  <th>No. Observations:</th>      <td>    20</td>      <th>  AIC:               </th> <td>   29.48</td>\n",
       "</tr>\n",
       "<tr>\n",
       "  <th>Df Residuals:</th>          <td>    16</td>      <th>  BIC:               </th> <td>   33.47</td>\n",
       "</tr>\n",
       "<tr>\n",
       "  <th>Df Model:</th>              <td>     3</td>      <th>                     </th>     <td> </td>   \n",
       "</tr>\n",
       "<tr>\n",
       "  <th>Covariance Type:</th>      <td>nonrobust</td>    <th>                     </th>     <td> </td>   \n",
       "</tr>\n",
       "</table>\n",
       "<table class=\"simpletable\">\n",
       "<tr>\n",
       "      <td></td>         <th>coef</th>     <th>std err</th>      <th>t</th>      <th>P>|t|</th>  <th>[0.025</th>    <th>0.975]</th>  \n",
       "</tr>\n",
       "<tr>\n",
       "  <th>Intercept</th> <td>   -0.1644</td> <td>    0.108</td> <td>   -1.520</td> <td> 0.148</td> <td>   -0.394</td> <td>    0.065</td>\n",
       "</tr>\n",
       "<tr>\n",
       "  <th>Col1</th>      <td>    0.3145</td> <td>    0.098</td> <td>    3.208</td> <td> 0.005</td> <td>    0.107</td> <td>    0.522</td>\n",
       "</tr>\n",
       "<tr>\n",
       "  <th>Col2</th>      <td>    0.3633</td> <td>    0.120</td> <td>    3.036</td> <td> 0.008</td> <td>    0.110</td> <td>    0.617</td>\n",
       "</tr>\n",
       "<tr>\n",
       "  <th>Col3</th>      <td>    0.3288</td> <td>    0.143</td> <td>    2.305</td> <td> 0.035</td> <td>    0.026</td> <td>    0.631</td>\n",
       "</tr>\n",
       "</table>\n",
       "<table class=\"simpletable\">\n",
       "<tr>\n",
       "  <th>Omnibus:</th>       <td> 9.939</td> <th>  Durbin-Watson:     </th> <td>   1.484</td>\n",
       "</tr>\n",
       "<tr>\n",
       "  <th>Prob(Omnibus):</th> <td> 0.007</td> <th>  Jarque-Bera (JB):  </th> <td>   7.409</td>\n",
       "</tr>\n",
       "<tr>\n",
       "  <th>Skew:</th>          <td>-1.173</td> <th>  Prob(JB):          </th> <td>  0.0246</td>\n",
       "</tr>\n",
       "<tr>\n",
       "  <th>Kurtosis:</th>      <td> 4.840</td> <th>  Cond. No.          </th> <td>    2.36</td>\n",
       "</tr>\n",
       "</table><br/><br/>Warnings:<br/>[1] Standard Errors assume that the covariance matrix of the errors is correctly specified."
      ],
      "text/plain": [
       "<class 'statsmodels.iolib.summary.Summary'>\n",
       "\"\"\"\n",
       "                            OLS Regression Results                            \n",
       "==============================================================================\n",
       "Dep. Variable:                      y   R-squared:                       0.801\n",
       "Model:                            OLS   Adj. R-squared:                  0.764\n",
       "Method:                 Least Squares   F-statistic:                     21.51\n",
       "Date:                Tue, 18 May 2021   Prob (F-statistic):           7.36e-06\n",
       "Time:                        00:43:15   Log-Likelihood:                -10.741\n",
       "No. Observations:                  20   AIC:                             29.48\n",
       "Df Residuals:                      16   BIC:                             33.47\n",
       "Df Model:                           3                                         \n",
       "Covariance Type:            nonrobust                                         \n",
       "==============================================================================\n",
       "                 coef    std err          t      P>|t|      [0.025      0.975]\n",
       "------------------------------------------------------------------------------\n",
       "Intercept     -0.1644      0.108     -1.520      0.148      -0.394       0.065\n",
       "Col1           0.3145      0.098      3.208      0.005       0.107       0.522\n",
       "Col2           0.3633      0.120      3.036      0.008       0.110       0.617\n",
       "Col3           0.3288      0.143      2.305      0.035       0.026       0.631\n",
       "==============================================================================\n",
       "Omnibus:                        9.939   Durbin-Watson:                   1.484\n",
       "Prob(Omnibus):                  0.007   Jarque-Bera (JB):                7.409\n",
       "Skew:                          -1.173   Prob(JB):                       0.0246\n",
       "Kurtosis:                       4.840   Cond. No.                         2.36\n",
       "==============================================================================\n",
       "\n",
       "Warnings:\n",
       "[1] Standard Errors assume that the covariance matrix of the errors is correctly specified.\n",
       "\"\"\""
      ]
     },
     "execution_count": 11,
     "metadata": {},
     "output_type": "execute_result"
    }
   ],
   "source": [
    "reg = ols(formula='y~Col1+Col2+Col3', data=df)\n",
    "reg_mod = reg.fit()\n",
    "reg_mod.summary()"
   ]
  },
  {
   "cell_type": "markdown",
   "metadata": {},
   "source": [
    "### As you can see, the model explains approximately 80% of the variation in y. Moreover, the p-values associated to each of the three predictor columns are less than 0.05 indicating statistical significance at the $\\alpha=0.05$ level!"
   ]
  },
  {
   "cell_type": "markdown",
   "metadata": {},
   "source": [
    "### Since the columns I used in the model were just themselves random numbers, the fact that I was able to use them to predict the random numbers y is amazing!"
   ]
  },
  {
   "cell_type": "markdown",
   "metadata": {},
   "source": [
    "## Response\n",
    "\n",
    "While it may be possible $95\\%$ of the time that the numbers generated out of three columns, there is always that $5\\%$ possibility that the numbers that were output might not be so random after all. Such a Type I error can occur at any time that at least two of the random numbers generated might be the exact same. There is also the chance that an entire column of randomly generated numbers might be all the same numbers, or where all the numbers simply are not unique at all. \n",
    "\n",
    "Additionally, it is possible that $5\\%$ of the time a Type II error can occur when numbers are randomly generated. It can be the case that the numbers might not be random at all but can be declared as random. \n",
    "\n",
    "There is always that rejection region where a column can have more than one \"random\" number can appear more than once in the same column and that not every number produced is actually a unique number. "
   ]
  },
  {
   "cell_type": "code",
   "execution_count": null,
   "metadata": {},
   "outputs": [],
   "source": []
  }
 ],
 "metadata": {
  "kernelspec": {
   "display_name": "Python 3",
   "language": "python",
   "name": "python3"
  },
  "language_info": {
   "codemirror_mode": {
    "name": "ipython",
    "version": 3
   },
   "file_extension": ".py",
   "mimetype": "text/x-python",
   "name": "python",
   "nbconvert_exporter": "python",
   "pygments_lexer": "ipython3",
   "version": "3.8.3"
  }
 },
 "nbformat": 4,
 "nbformat_minor": 5
}
