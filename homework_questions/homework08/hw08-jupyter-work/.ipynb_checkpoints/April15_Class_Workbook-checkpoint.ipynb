{
 "cells": [
  {
   "cell_type": "markdown",
   "metadata": {},
   "source": [
    "# Quick review of probability and statistics"
   ]
  },
  {
   "cell_type": "code",
   "execution_count": 1,
   "metadata": {},
   "outputs": [],
   "source": [
    "import pandas as pd\n",
    "import numpy as np\n",
    "import matplotlib.pyplot as plt\n",
    "import math\n",
    "import random\n",
    "import scipy.stats"
   ]
  },
  {
   "cell_type": "markdown",
   "metadata": {},
   "source": [
    "Probability is the foundation for statistics so let's briefly review some basics. Out of necessity, lots of details will get skipped. We won't dwelll on probability for too long but it's essential to build basic intuition and understanding before moving on to statistical models."
   ]
  },
  {
   "cell_type": "markdown",
   "metadata": {},
   "source": [
    "We start with the basic setup of an experiment whose outcome is uncertain: a random experiment. We want to consider the possible outcomes of such an experiment along with a measure of how likely each outcome is to occur. Some examples: "
   ]
  },
  {
   "cell_type": "markdown",
   "metadata": {},
   "source": [
    "1. Flip a coin\n",
    "2. Roll a fair six-sided die\n",
    "3. Roll a pair of dice\n",
    "4. Flip a coin until you get heads.\n",
    "5. Pick a random number between 0 and 1"
   ]
  },
  {
   "cell_type": "markdown",
   "metadata": {},
   "source": [
    "We define the **sample space** to be the set of all possible outcomes of the experiment. In the examples above we have the following sample spaces:"
   ]
  },
  {
   "cell_type": "markdown",
   "metadata": {},
   "source": [
    "1. $\\{H,T\\}$\n",
    "2. $\\{1,2,3,4,5,6\\}$\n",
    "3. The set of 36 possible combinations of the two dice... like one 3 and the other 5.\n",
    "4. $\\{H,TH,TTH,TTTH,\\ldots \\}$\n",
    "5. The interval $\\left[0,1 \\right]$"
   ]
  },
  {
   "cell_type": "markdown",
   "metadata": {},
   "source": [
    "We all have an intuitive notion of probability as quantifying the likelihood that an event will occur. As such, probabilities follow some obvious rules: a probability must be positive and be between 0 (the even is certain to not occur) and 1 (the event is certain to occur). "
   ]
  },
  {
   "cell_type": "markdown",
   "metadata": {},
   "source": [
    "Let's notice that in each of the first 3 examples, there is a finite number of possible outcomes. Moreover, each outcome in the sample space is equally likely to occur. In that case we can define the probability of an **event**, a subspace of the sample space, to be the number of outtcomes corresponding to the event divided by the number of outcomes in the\" sample space. "
   ]
  },
  {
   "cell_type": "markdown",
   "metadata": {},
   "source": [
    "In example 1, we get the non-suprising result that the probability of flipping H is $\\frac{1}{2}$. "
   ]
  },
  {
   "cell_type": "markdown",
   "metadata": {},
   "source": [
    "In the second example, let $E$ be the event that we roll a 5 or 6. Then $P(E)=\\frac{2}{6}=\\frac{1}{3}$."
   ]
  },
  {
   "cell_type": "markdown",
   "metadata": {},
   "source": [
    "In the third example it's convenient to think of the dice as having different colors. We can write out the sample space as follows:"
   ]
  },
  {
   "cell_type": "markdown",
   "metadata": {},
   "source": [
    "| R\\B   |   1  |  2 | 3|4|5|6|\n",
    "|-------|------|----|-|-|-|-|\n",
    "| **1** |  (1,1)| (1,2)   | (1,3)      | (1,4)  | (1,5)  | (1,6)  |\n",
    "| **2** |   (2,1)| (2,2)   | (2,3)      | (2,4)  |  (2,5) | (2,6)  |\n",
    "| **3** | (3,1)| (3,2)   | (3,3)      | (3,4)  | (3,5)  | **(3,6)**  |\n",
    "| **4** |(4,1)| (4,2)   | (4,3)      | (4,4)   | **(4,5)**   | **(4,6)**   |\n",
    "| **5** |(5,1)| (5,2)   | (5,3)      | **(5,4)**  | **(5,5)** | **(5,6)**  |\n",
    "| **6** |(6,1)| (6,2)   |  **(6,3)** |  **(6,4)** |**(6,5)**  | **(6,6)** |"
   ]
  },
  {
   "cell_type": "markdown",
   "metadata": {},
   "source": [
    "If $E$ is the event that the sum of the faces of the dice is more than 8, then the outcomes in $E$ are in bold in the table above. We see that $P(E)=\\frac{10}{36}=\\frac{5}{18}$."
   ]
  },
  {
   "cell_type": "markdown",
   "metadata": {},
   "source": [
    "Example 4 is slightly different. First, the sample space consists of infintely many possiblilities (although many of them are so unlikely as to be irrelevant). Secondly, the outcomes are not equally likely. It's far more likely that we will see the first $H$ in the first few flips than after, say, 1000 flips. More on computing probabilities here later."
   ]
  },
  {
   "cell_type": "markdown",
   "metadata": {},
   "source": [
    "Finally, example 5 is different still. The sample space is infinite, as in example 5, but in example 5 it was still possible to list the outcomes. In 6, that's no longer possible. The outcomes live in an interval of real numbers and defining probability in this contect will require some new ideas. "
   ]
  },
  {
   "cell_type": "markdown",
   "metadata": {},
   "source": [
    "You might also be wondering about situations where we can't actually write down the sample space, or can't do so in such a way that the outcomes are equally likely. If we buy a weighted coin at a magic shop, for example, the outcomes are still $\\{H,T\\}$ but they're no longer equally likely. Similarly, we might want to know the probability that it will rain tomorrow in San Francisco. That seems like a problem where we can;t enumerate the sample space.   "
   ]
  },
  {
   "cell_type": "markdown",
   "metadata": {},
   "source": [
    "In these cases we use an idea called **empirical probability**. The idea here is simple. If you repeat the experiment many times, and record the number of times the event of interest occurred, we can estimate the probability of the event occurring by the ratio of the number of observed occurrences to the total number of experiments."
   ]
  },
  {
   "cell_type": "markdown",
   "metadata": {},
   "source": [
    "If you flip a fair coin 100 or 1000 or 10000 times, you'd expect that you'd see heads pretty close to half the time. On the other hand, if you flipped the magic shop coin 1000 times and saw heads 650 times, you'd probably feel pretty good about estimating the probability of heads at 0.65. Similarly, if you look back through weather records and observe all occurances of days with weather parrerns similar to today, and then count the number of subsequent rainy days, you might be willing to hazzard a guess as to the probability of rain tomorrow.  "
   ]
  },
  {
   "cell_type": "markdown",
   "metadata": {},
   "source": [
    "## Random Variables"
   ]
  },
  {
   "cell_type": "markdown",
   "metadata": {},
   "source": [
    "Rather than work directly with the sample space we often instead work with functions called random variables."
   ]
  },
  {
   "cell_type": "markdown",
   "metadata": {},
   "source": [
    "A random variable (is a function that) assigns a numerical value to each outome in the sample space. In examples 2 and 6 there is an obvious random variable corresponding to the outcome itself. In 1 we might assign 1 to $H$ and 0 to $T$. In 3 we can assign to each outcome the sum of the faces of the dice. In 4 we might count the number of tails before getting our first heads."
   ]
  },
  {
   "cell_type": "markdown",
   "metadata": {},
   "source": [
    "If the values of random variable can be listed, as in examples 1-4, then we say the varible is discrete. If not, as in 5, we say that the random variable is continuous."
   ]
  },
  {
   "cell_type": "markdown",
   "metadata": {},
   "source": [
    "We are interested in both the values that a random variable can take, along with the probability with which each of those values occurs. "
   ]
  },
  {
   "cell_type": "markdown",
   "metadata": {},
   "source": [
    "Looking at the dice in example 3, we see that the set of values of the random variable are:\n",
    "$$\n",
    "\\{2,3,4,5,6,7,8,9,10,11,12\\}.\n",
    "$$"
   ]
  },
  {
   "cell_type": "markdown",
   "metadata": {},
   "source": [
    "Not all values are equally likely. It's easy to see that the probability of rolling 12 is $\\frac{1}{36}$ while the probability of rolling 8 is $\\frac{5}{36}$."
   ]
  },
  {
   "cell_type": "markdown",
   "metadata": {},
   "source": [
    "When a random variable is discrete, a list of the possible values and thier associated probabilities gives the **distribution** of the random varibale. (The assignment of probabilities to values is sometimes called the probability mass function in this case, but we will refer to it as the distribution function too.)"
   ]
  },
  {
   "cell_type": "markdown",
   "metadata": {},
   "source": [
    "Note that summing the distribution over all possible values of the random variable gives the value 1. "
   ]
  },
  {
   "cell_type": "markdown",
   "metadata": {},
   "source": [
    "Finally, we need a notion of probability when our random variable is continuous. Let's stick with the example of choosing a random number between 0 and 1. It feels natural to say that the probability that a randomly chosen number is less than $\\frac{1}{3}$, is equal to $\\frac{1}{3}$. Similarly, what is the probability that a randomly chosen number is close to $\\frac{1}{2}$? Depends on how close. In fact, the probability that the number is within $\\frac{1}{8}$ of $\\frac{1}{2}$ should be $\\frac{1}{4}$."
   ]
  },
  {
   "cell_type": "markdown",
   "metadata": {},
   "source": [
    "In all these cases the probabilities are equal to the lengths of the relevant intervals. Since any number in $\\left[0,1\\right]$ is equally likely to occur, the probability is, in a sense, uniformly distributed over all the values. This is represented by the function $f(x)=1$ on the interval $\\left[0,1\\right]$. The probability that the random variable takes values in any interval $\\left[a,b\\right]$ in $\\left[0,1\\right]$ is then the area under the function $f(x)$ on $\\left[a,b\\right]$. If $f(x)$ were not a constant function, say the numbers near 1 are more likely to occur than those near 0, then the function would take larger values near 1 than near 0. The total area under $f(x)$ must be 1 to reflect the idea that the total probability over all possible values of the random variable must be 1. The probability that the random variable takes values in an interval $\\left[a,b\\right]$ is the area under the function $f(x)$ on this interval. Area under a curve is given by integrating:\n",
    "$$\n",
    "P(a<X<b)=\\int_a^bf(x) dx.\n",
    "$$"
   ]
  },
  {
   "cell_type": "markdown",
   "metadata": {},
   "source": [
    "## A few examples"
   ]
  },
  {
   "cell_type": "markdown",
   "metadata": {},
   "source": [
    "Coin flipping, as simple as it sounds, is an important example because many real situations are based on that basic premise. Let's consider the experiment of flipping a coin 10 times and finding the probability of getting $k$ heads, with $k$ an integer between 0 and 10. Thinking this through will give us a little practice with basic counting exercises, as well as get us warmed up in python. First let's simulate the experiment."
   ]
  },
  {
   "cell_type": "markdown",
   "metadata": {},
   "source": [
    "Let's flip the coin 10 times and each time count the number of heads that occurred. We'll represent the coin flip by generating a random integer equal to either 0 or 1. We'll say that heads is equal to 1 and count the number of heads in 10 flips. Then, let's repeat the experiment a bunch of times (10,000, say) and keep track of the number of heads each time:"
   ]
  },
  {
   "cell_type": "code",
   "execution_count": 2,
   "metadata": {},
   "outputs": [],
   "source": [
    "res=[]\n",
    "for i in range(10000):\n",
    "    x=np.random.randint(2, size=10)\n",
    "    res.append(sum(x))"
   ]
  },
  {
   "cell_type": "code",
   "execution_count": 3,
   "metadata": {},
   "outputs": [
    {
     "data": {
      "text/plain": [
       "[2, 5, 4, 5, 5, 6, 7, 7, 5, 3]"
      ]
     },
     "execution_count": 3,
     "metadata": {},
     "output_type": "execute_result"
    }
   ],
   "source": [
    "res[0:10]"
   ]
  },
  {
   "cell_type": "markdown",
   "metadata": {},
   "source": [
    "The list ```res``` consists of integers between 0 and 10, correspon=ding to teh number of heads in 10 flips of the coin. Thus, ```res``` consists of the values of teh random variable $X$ that counts the number of heads in 10 flips. We can approximate the distribution of $X$ by plotting the number of times we got $k$ heads for each possible value of $k$."
   ]
  },
  {
   "cell_type": "code",
   "execution_count": 4,
   "metadata": {},
   "outputs": [
    {
     "data": {
      "image/png": "[encoded data removed]",
      "text/plain": [
       "<Figure size 360x288 with 1 Axes>"
      ]
     },
     "metadata": {
      "needs_background": "light"
     },
     "output_type": "display_data"
    }
   ],
   "source": [
    "fig, ax = plt.subplots(figsize=(5,4))  # make one subplot (ax) on the figure\n",
    "ax.hist(res,bins=21)\n",
    "plt.show()"
   ]
  },
  {
   "cell_type": "markdown",
   "metadata": {},
   "source": [
    "To get the probabilities instead of the frequencies we can just count the occurances of $k$ heads and divide by the number of experiments:"
   ]
  },
  {
   "cell_type": "code",
   "execution_count": 5,
   "metadata": {},
   "outputs": [
    {
     "name": "stdout",
     "output_type": "stream",
     "text": [
      "0 heads : 0.0007\n",
      "1 heads : 0.008\n",
      "2 heads : 0.043\n",
      "3 heads : 0.1189\n",
      "4 heads : 0.2059\n",
      "5 heads : 0.2464\n",
      "6 heads : 0.2107\n",
      "7 heads : 0.1129\n",
      "8 heads : 0.0417\n",
      "9 heads : 0.0109\n",
      "10 heads : 0.0009\n"
     ]
    }
   ],
   "source": [
    "for i in range(11):\n",
    "    print(i, \"heads\",\":\",res.count(i)/10000)"
   ]
  },
  {
   "cell_type": "markdown",
   "metadata": {},
   "source": [
    "Are these good estimates? Probably. Since that code ran very quickly we could increase the number of repetitions of the experiment without much trouble, say to 100,000 instead of 10000, and compare. But let's actually do some counting to see what the **exact** probabilities are. "
   ]
  },
  {
   "cell_type": "markdown",
   "metadata": {},
   "source": [
    "First, how many possible outcomes are there when you flip a coin 10 times? Well, on any flip there are two possible outcomes, $H$ or $T$. We can think of this as a fork in universe of all possible roads leading us to an outcome. If $H$, bear left and if $T$ bear right. Once the coin lands, we take that fork. If the coin landed $H$, and went left, then we are standing at $H$ when we flip again. That will give us another fork in the road, and so on. Each fork has two options and there are 10 forks, so there are $2^{10}$ (or 1024) possible outcomes. This is an example of the **multiplication principle**. If there are $m$ ways to perform task $A$ and $n$ ways to perform task $B$, then there are $mn$ ways to perform task $A$ followed by task $B$. If there are three meat toppings and 10 veggie topings at a pizza place, there are 30 possible pizzas with one meat and one veggie topping. "
   ]
  },
  {
   "cell_type": "markdown",
   "metadata": {},
   "source": [
    "How many ways are there to get, say, 3 heads? Well, we simply need to choose the 3 locations within the 10 flips to get heads. The order in which we choose those locations doesn't matter. Getting heads in spots 1,3 and 7 is exactly the same as getting heads in spots 3, 1, and 7. The number of ways of choosing an unordered set of $k$ objects from a group of $n$ is given by the binomial coefficient (read: $n$ choose $k$):     "
   ]
  },
  {
   "cell_type": "markdown",
   "metadata": {},
   "source": [
    "$$\n",
    "{n\\choose k} = \\frac{n!}{k!(n-k)!}.\n",
    "$$"
   ]
  },
  {
   "cell_type": "markdown",
   "metadata": {},
   "source": [
    "Thus, the exact probability of getting 3 heads in 10 flips is \n",
    "$$\n",
    "\\frac{{10\\choose 3}}{2^{10}}\\approx 0.1172,\n",
    "$$\n",
    "and more generally, the probability that teh random variable takes value $k$ is given by:\n",
    "K, how about three heads in 10 flips? Think of the flips as people and choose three. Order doesn't matter (1-3-7 is the same as 3-7-1), so we can make these choices in ${10\\choose 3}$ ways. Thus, the exact probability of getting 3 heads in 10 flips is \n",
    "$$\n",
    "P(X=k)=\\frac{{10\\choose k}}{2^{k}}.\n",
    "$$"
   ]
  },
  {
   "cell_type": "markdown",
   "metadata": {},
   "source": [
    "We can now compare the true probabilities to the empirical probabilites. Let's define a function to compute the binomial coefficients:"
   ]
  },
  {
   "cell_type": "code",
   "execution_count": 6,
   "metadata": {},
   "outputs": [],
   "source": [
    "import math\n",
    "def nCr(n,r):\n",
    "    f = math.factorial\n",
    "    return f(n) / f(r) / f(n-r)"
   ]
  },
  {
   "cell_type": "code",
   "execution_count": 7,
   "metadata": {},
   "outputs": [
    {
     "name": "stdout",
     "output_type": "stream",
     "text": [
      "0 heads : 0.001\n",
      "1 heads : 0.0098\n",
      "2 heads : 0.0439\n",
      "3 heads : 0.1172\n",
      "4 heads : 0.2051\n",
      "5 heads : 0.2461\n",
      "6 heads : 0.2051\n",
      "7 heads : 0.1172\n",
      "8 heads : 0.0439\n",
      "9 heads : 0.0098\n",
      "10 heads : 0.001\n"
     ]
    }
   ],
   "source": [
    "for k in range(11):\n",
    "    print(k, \"heads\",\":\",np.round(nCr(10,k)/2**10,4))"
   ]
  },
  {
   "cell_type": "markdown",
   "metadata": {},
   "source": [
    "## Conditional probability"
   ]
  },
  {
   "cell_type": "markdown",
   "metadata": {},
   "source": [
    "One more important idea is that of conditional probability. Here's a simple example. Imagine rolling a pair of dice and adding the faces as in example 3 above. The possible values of the random variable (call it $Y$) are: \n",
    "$$\n",
    "\\{2,3,4,5,6,7,8,9,10,11,12\\},\n",
    "$$\n",
    "though notice that these values are definitely **not** equally likely! The sample space of the experiment is given in the table above."
   ]
  },
  {
   "cell_type": "markdown",
   "metadata": {},
   "source": [
    "Now suppose I roll the dice behind a cutain, and I tell you that the result, when you sum the faces, is larger than 8. What is the probability of double sixes? Our intuition is that it should be considerably larger than the probability of rolling double sixes without the extra information.  Why? Because many of the outcomes in the sample space are ruled out when we know that the sum is more than 8. In particular, the only outcomes still in play are those where the faces sum to 9, 10, 11 or 12 (in bold in the sample space above)."
   ]
  },
  {
   "cell_type": "markdown",
   "metadata": {},
   "source": [
    "Thus, the sample space has effectively shrunk to now include only $10$ possible outcomes. The new probability of getting double sixes, given the added knowledge that we rolled better than 8, is:\n",
    "$$\n",
    "P(\\text{Double Sixes GIVEN more than 8}) = \\frac{1}{10},\n",
    "$$\n",
    "which we abbreviate using a verticle bar instead of the word \"given\":\n",
    "$$\n",
    "P(\\text{Double sixes}|\\text{more than 8})=\\frac{1}{10},\n",
    "$$\n",
    "or using the random variable\n",
    "$$\n",
    "P(Y=12 | Y>8)=\\frac{1}{10}.\n",
    "$$"
   ]
  },
  {
   "cell_type": "markdown",
   "metadata": {},
   "source": [
    "In general, the probability of event $B$ happening, given that event $A$ has happened, is written:\n",
    "$$\n",
    "P(B|A).\n",
    "$$\n",
    "This is a conditional probability because it gives the probability of event $B$ conditioned on the fact that event $A$ has happened."
   ]
  },
  {
   "cell_type": "markdown",
   "metadata": {},
   "source": [
    "The dice example above gives us a template for thinking about conditional probility in general. Knowing that $A$ happened changes the sample space. Instead of all possible outcomes, the new sample space consists only of the bold outcomes in the table above. Of those, we count the outcomes in the event of interest. Thus, to find $P(B|A)$ (in the case of equally likely outcomes we can count) we are looking for outcomes in both $A$ and $B$, divided by the number of outcomes in $A$. Here's a picture"
   ]
  },
  {
   "cell_type": "markdown",
   "metadata": {},
   "source": [
    "<img src=\"cond.jpeg\">"
   ]
  },
  {
   "cell_type": "markdown",
   "metadata": {},
   "source": [
    "If $A$ is the blue circle and $B$ the red, then $P(B|A)$ is the number of outcomes in the purple intersection divided by all outcomes in the blue circle. The red outcomes not shared by the blue circle are impossible because we know that $A$ has happened. "
   ]
  },
  {
   "cell_type": "markdown",
   "metadata": {},
   "source": [
    "Mathematically, \n",
    "$$\n",
    "P(B|A)=\\frac{P(A\\bigcap B)}{P(A)},\n",
    "$$\n",
    "where $P(A\\bigcap B)$ means the probability of both $A$ and $B$ happening at the same time. For instance, the probability that you roll a sum greater than 8 *and* double sixes. "
   ]
  },
  {
   "cell_type": "markdown",
   "metadata": {},
   "source": [
    "Now consider the experiment of flipping a coin twice. What is the probability of getting $H$ on the second flip given that we flipped $H$ on the first flip? Intuitively, we know that the answer is $\\frac{1}{2}$. The knowlege that the first flip was $H$ doesn't have any effect on the outcome of the second flip. Indeed, we can write out the sample space of four possible outcomes and use the conditional probability formula to verify that our intuition is correct. In this case we say the the events $A$ (\"heads on the first flip\") and $B$ (heads on the second flip) are **independent**. $P(B|A)=P(B)$. "
   ]
  },
  {
   "cell_type": "markdown",
   "metadata": {},
   "source": [
    "Finally, notice that the conditional probability formula helps us compute the probability of a sequence of events:\n",
    "$$\n",
    "P(A\\bigcap B) =P(A)\\cdot P(B|A).\n",
    "$$\n",
    "Moreover, if $A$ and $B$ are independent then \n",
    "$$\n",
    "P(A\\bigcap B) =P(A)\\cdot P(B).\n",
    "$$\n",
    "Thus, the probability of getting a particular sequence of coin flips like $HTTHT$ can be found by simply multiplying each individual probability together: $P(HTTHT)=\\frac{1}{32}$."
   ]
  },
  {
   "cell_type": "markdown",
   "metadata": {},
   "source": [
    "### Complements"
   ]
  },
  {
   "cell_type": "markdown",
   "metadata": {},
   "source": [
    "One other useful idea is that of the complement of an event. Given an event $A$, the complement $A^c$ is all outcomes not in the event $A$. Since $A$ together with $A^c$ is the entire sample space $S$ (and $P(S)=1$), it follows that $P(A^c)=1-P(A)$. This turns out to be quite useful. For instance, the probability of not rolling double sixes is $\\frac{35}{36}$ and the probability of not flipping heads both times in two flips is $\\frac{3}{4}$. Those are very simple examples where the answers were obvious, but we'll see an example below where the answer is less obvious."
   ]
  },
  {
   "cell_type": "markdown",
   "metadata": {},
   "source": [
    "## Binomial random variables"
   ]
  },
  {
   "cell_type": "markdown",
   "metadata": {},
   "source": [
    "We computed the probability of getting 3 heads in 10 flips above for a fair coin. Let's revisit that calculation in a slightly more general context. Suppose we flip a coin that lands hands with probability $p$. So, this could be the magic shop coin and $p$ can be any number between 0 and 1. Let's flip the coin $n$ times and find the probability of getting $k$ heads where $k$ is between 0 and $n$. "
   ]
  },
  {
   "cell_type": "markdown",
   "metadata": {},
   "source": [
    "If we let $X$ denote the number of heads in $n$ flips, $X$ is a random varible called the **binomial random variable**. We'll find the distribution of $X$, which gives the probability that $X$ takes the value $k$ for each possible value of $k$: $P(X=k)$.  "
   ]
  },
  {
   "cell_type": "markdown",
   "metadata": {},
   "source": [
    "Since each flip of the coin is independent of previous flips we can find the probability of a particular string of outcomes by multiplying the probabilities of each indiviual outcome (as shown above).  That means, for instance, that the probability getting:\n",
    "$$\n",
    "HHHTT\n",
    "$$\n",
    "can be computed as \n",
    "$$\n",
    "ppp(1-p)(1-p) = p^3(1-p)^2.\n",
    "$$\n",
    "(Remember that the probability of $T$ is the robability of \"not $H$\", which is $(1-p)$.)\n",
    "But the probability of getting\n",
    "$$\n",
    "HTHTH\n",
    "$$\n",
    "is also $p^3(1-p)^2$. In fact, the probability of getting 3 heads is the same no matter what order the heads come in. Thus, the probability of 3 heads in 5 flips is given by the number of ways to choose 3 of the five flips (for heads), multiplied by this probability:\n",
    "$$\n",
    "{5\\choose 3}p^3(1-p^2).\n",
    "$$"
   ]
  },
  {
   "cell_type": "markdown",
   "metadata": {},
   "source": [
    "More generally:\n",
    "$$\n",
    "P(X=k)={n\\choose k}p^k(1-p)^{n-k}.\n",
    "$$\n",
    "Let's see what that distribution looks like for $n=10$ and various values of $k$, and $p$."
   ]
  },
  {
   "cell_type": "code",
   "execution_count": 8,
   "metadata": {},
   "outputs": [],
   "source": [
    "bin_res=np.empty([5,11])\n",
    "prob=np.arange(0.1,1,0.2)\n",
    "row=0\n",
    "for p in prob:\n",
    "    for k in range(11):\n",
    "        bin_res[row,k]= nCr(10,k)*(p**k)*(1-p)**(10-k)\n",
    "    row=row+1    "
   ]
  },
  {
   "cell_type": "code",
   "execution_count": 9,
   "metadata": {},
   "outputs": [
    {
     "data": {
      "image/png": "[encoded data removed]",
      "text/plain": [
       "<Figure size 504x720 with 5 Axes>"
      ]
     },
     "metadata": {
      "needs_background": "light"
     },
     "output_type": "display_data"
    }
   ],
   "source": [
    "fig, axes = plt.subplots(nrows=5, ncols=1, figsize=(7,10))  # make one subplot (ax) on the figure\n",
    "axes = axes.flatten() # it comes out as a 2D matrix; convert to a vector\n",
    "heads=[0,1,2,3,4,5,6,7,8,9,10]\n",
    "axes[0].bar(heads,bin_res[0,:])\n",
    "axes[1].bar(heads,bin_res[1,:])\n",
    "axes[2].bar(heads,bin_res[2,:])\n",
    "axes[3].bar(heads,bin_res[3,:])\n",
    "axes[4].bar(heads,bin_res[4,:])\n",
    "plt.tight_layout() # I add this anytime I have a grid as it \"does the right thing\"\n",
    "axes[0].set_title(\"p=0.1\")\n",
    "axes[1].set_title(\"p=0.3\")\n",
    "axes[2].set_title(\"p=0.5\")\n",
    "axes[3].set_title(\"p=0.7\")\n",
    "axes[4].set_title(\"p=0.9\")\n",
    "plt.show()"
   ]
  },
  {
   "cell_type": "markdown",
   "metadata": {},
   "source": [
    "The binomial random variable can be considered in any situation that seems like coin flipping:\n",
    "1. A fixed number of repeated independent trials (like coin flips).\n",
    "2. Two possible outcomes (binary outcomes) with one arbitrarily labeled *success*.\n",
    "3. Fixed probability $p$ of success on each trial."
   ]
  },
  {
   "cell_type": "markdown",
   "metadata": {},
   "source": [
    "## Uniform Random Variable"
   ]
  },
  {
   "cell_type": "markdown",
   "metadata": {},
   "source": [
    "When we pick a random number between 0 and 1, we have no expectation that any particular part of the interval is more or less likely than anuy other. We moght expect, therefore, that the probability density function is uniformly distributed over the entire interval."
   ]
  },
  {
   "cell_type": "code",
   "execution_count": 10,
   "metadata": {},
   "outputs": [
    {
     "data": {
      "image/png": "[encoded data removed]",
      "text/plain": [
       "<Figure size 720x504 with 1 Axes>"
      ]
     },
     "metadata": {
      "needs_background": "light"
     },
     "output_type": "display_data"
    }
   ],
   "source": [
    "unif=[]\n",
    "for i in range(10000):\n",
    "    unif.append(random.random())\n",
    "fig, ax = plt.subplots(figsize=(10,7))  # make one subplot (ax) on the figure\n",
    "ax.hist(unif,bins=20,density=True)\n",
    "plt.show()"
   ]
  },
  {
   "cell_type": "markdown",
   "metadata": {},
   "source": [
    "## Mean and variance"
   ]
  },
  {
   "cell_type": "markdown",
   "metadata": {},
   "source": [
    "The mean of a random variable $X$ is a measure of the the center, or average value. We compute the mean for discrete or continuous variables by summing or integrating the values of the variable's distribution weighted by the likelihood that the variable takes those values. (You can think of an integral as a continuous sum.)"
   ]
  },
  {
   "cell_type": "markdown",
   "metadata": {},
   "source": [
    "$$\n",
    "\\mu = \\sum_x x\\cdot P(X=x)\n",
    "$$"
   ]
  },
  {
   "cell_type": "markdown",
   "metadata": {},
   "source": [
    "$$\n",
    "\\mu = \\int xf(x)dx\n",
    "$$"
   ]
  },
  {
   "cell_type": "markdown",
   "metadata": {},
   "source": [
    "We are also interested in the extent to which the values of the random variable are dispersed (or spread out) around the mean. This is measured by the variance:"
   ]
  },
  {
   "cell_type": "markdown",
   "metadata": {},
   "source": [
    "$$\n",
    "\\sigma^2=\\text{var} X = \\sum(x-\\mu)^2\\cdot P(X=x)\n",
    "$$"
   ]
  },
  {
   "cell_type": "markdown",
   "metadata": {},
   "source": [
    "$$\n",
    "\\sigma^2=\\text{var } X = \\int (x-\\mu)^2f(x)dx\n",
    "$$"
   ]
  },
  {
   "cell_type": "markdown",
   "metadata": {},
   "source": [
    "As an example, consider the average monthly temperatures in Raleigh, NC, and San Francisco, CA. The averages of the monthly temperatures are are very similar. Temperatures in Raleigh, however, stray much further from the mean in summer and winter than do the temnperatures in San Francisco. Thus, the variance is greater in Raleigh."
   ]
  },
  {
   "cell_type": "markdown",
   "metadata": {},
   "source": [
    "The standard deviation $\\sigma$ is the square root of the variance. It's often easier to think about becasuse the units are the same as the units of the original variable (whereas the variance is in square-units)."
   ]
  },
  {
   "cell_type": "code",
   "execution_count": 11,
   "metadata": {},
   "outputs": [],
   "source": [
    "sf=pd.read_csv('NCSF.csv')"
   ]
  },
  {
   "cell_type": "code",
   "execution_count": 12,
   "metadata": {
    "scrolled": true
   },
   "outputs": [
    {
     "data": {
      "text/html": [
       "<div>\n",
       "<style scoped>\n",
       "    .dataframe tbody tr th:only-of-type {\n",
       "        vertical-align: middle;\n",
       "    }\n",
       "\n",
       "    .dataframe tbody tr th {\n",
       "        vertical-align: top;\n",
       "    }\n",
       "\n",
       "    .dataframe thead th {\n",
       "        text-align: right;\n",
       "    }\n",
       "</style>\n",
       "<table border=\"1\" class=\"dataframe\">\n",
       "  <thead>\n",
       "    <tr style=\"text-align: right;\">\n",
       "      <th></th>\n",
       "      <th>Month</th>\n",
       "      <th>San Francisco</th>\n",
       "      <th>Raleigh</th>\n",
       "    </tr>\n",
       "  </thead>\n",
       "  <tbody>\n",
       "    <tr>\n",
       "      <th>0</th>\n",
       "      <td>Jan</td>\n",
       "      <td>49</td>\n",
       "      <td>39</td>\n",
       "    </tr>\n",
       "    <tr>\n",
       "      <th>1</th>\n",
       "      <td>Feb</td>\n",
       "      <td>52</td>\n",
       "      <td>42</td>\n",
       "    </tr>\n",
       "    <tr>\n",
       "      <th>2</th>\n",
       "      <td>Mar</td>\n",
       "      <td>53</td>\n",
       "      <td>50</td>\n",
       "    </tr>\n",
       "    <tr>\n",
       "      <th>3</th>\n",
       "      <td>Apr</td>\n",
       "      <td>56</td>\n",
       "      <td>59</td>\n",
       "    </tr>\n",
       "    <tr>\n",
       "      <th>4</th>\n",
       "      <td>May</td>\n",
       "      <td>58</td>\n",
       "      <td>67</td>\n",
       "    </tr>\n",
       "  </tbody>\n",
       "</table>\n",
       "</div>"
      ],
      "text/plain": [
       "  Month  San Francisco  Raleigh\n",
       "0   Jan             49       39\n",
       "1   Feb             52       42\n",
       "2   Mar             53       50\n",
       "3   Apr             56       59\n",
       "4   May             58       67"
      ]
     },
     "execution_count": 12,
     "metadata": {},
     "output_type": "execute_result"
    }
   ],
   "source": [
    "sf.head()"
   ]
  },
  {
   "cell_type": "code",
   "execution_count": 13,
   "metadata": {},
   "outputs": [
    {
     "data": {
      "text/plain": [
       "San Francisco    57.25\n",
       "Raleigh          59.25\n",
       "dtype: float64"
      ]
     },
     "execution_count": 13,
     "metadata": {},
     "output_type": "execute_result"
    }
   ],
   "source": [
    "sf.mean()"
   ]
  },
  {
   "cell_type": "code",
   "execution_count": 14,
   "metadata": {},
   "outputs": [
    {
     "data": {
      "text/plain": [
       "San Francisco     33.113636\n",
       "Raleigh          200.750000\n",
       "dtype: float64"
      ]
     },
     "execution_count": 14,
     "metadata": {},
     "output_type": "execute_result"
    }
   ],
   "source": [
    "sf.var()"
   ]
  },
  {
   "cell_type": "code",
   "execution_count": 15,
   "metadata": {},
   "outputs": [
    {
     "data": {
      "text/plain": [
       "San Francisco     5.754445\n",
       "Raleigh          14.168627\n",
       "dtype: float64"
      ]
     },
     "execution_count": 15,
     "metadata": {},
     "output_type": "execute_result"
    }
   ],
   "source": [
    "sf.std()"
   ]
  },
  {
   "cell_type": "code",
   "execution_count": 16,
   "metadata": {},
   "outputs": [
    {
     "data": {
      "image/png": "[encoded data removed]",
      "text/plain": [
       "<Figure size 504x432 with 1 Axes>"
      ]
     },
     "metadata": {
      "needs_background": "light"
     },
     "output_type": "display_data"
    }
   ],
   "source": [
    "fig, ax = plt.subplots(figsize=(7,6))\n",
    "ax.boxplot(sf[['San Francisco','Raleigh']])\n",
    "plt.show()"
   ]
  },
  {
   "cell_type": "code",
   "execution_count": 17,
   "metadata": {},
   "outputs": [
    {
     "data": {
      "text/plain": [
       "<matplotlib.axes._subplots.AxesSubplot at 0x7fa8e901ec40>"
      ]
     },
     "execution_count": 17,
     "metadata": {},
     "output_type": "execute_result"
    },
    {
     "data": {
      "image/png": "[encoded data removed]",
      "text/plain": [
       "<Figure size 432x288 with 1 Axes>"
      ]
     },
     "metadata": {
      "needs_background": "light"
     },
     "output_type": "display_data"
    }
   ],
   "source": [
    "sf.boxplot()"
   ]
  },
  {
   "cell_type": "markdown",
   "metadata": {},
   "source": [
    "The box plot shows the spread of the data using 4 numbers: the min, max, and quartiles: $Q1$, $Q2$, and $Q3$ are, respectively, the values in the distribution where 25\\%, 50\\%, and 75\\% of the data falls below that value. $Q2$ is also known as the median. (The 25th, 50th and 75th percentiles)."
   ]
  },
  {
   "cell_type": "markdown",
   "metadata": {},
   "source": [
    "Q: Compute the average and variance for bets in Roulette."
   ]
  },
  {
   "cell_type": "markdown",
   "metadata": {},
   "source": [
    "# The normal distribution"
   ]
  },
  {
   "cell_type": "markdown",
   "metadata": {},
   "source": [
    "Many random variables have a symmetric, bell-shaped distribution with more values in the middle than at the extremes on either side. If you look at heights of adult men in the United States, for example, most men are close to average height, and the number of men who are very short or very tall is fairly small. In fact, you've probably heard of the normal distribution which is often used to model such variables. The normal distribution has a symmetric, bell-shaped pdf, centered at an average value  𝜇  and with standard deviation  𝜎  which determines how spread out the distribution is around  𝜇. The distribution is copletely determined by $\\mu$ and $\\sigma$, and we often abbreviate by writing $X \\sim N(\\mu,\\sigma)$."
   ]
  },
  {
   "cell_type": "code",
   "execution_count": 18,
   "metadata": {},
   "outputs": [
    {
     "data": {
      "image/png": "[encoded data removed]",
      "text/plain": [
       "<Figure size 720x504 with 1 Axes>"
      ]
     },
     "metadata": {
      "needs_background": "light"
     },
     "output_type": "display_data"
    }
   ],
   "source": [
    "ndst=np.random.normal(0,1,10000)\n",
    "ndst2=np.random.normal(1,2,10000)\n",
    "ndst3=np.random.normal(-2,0.5,10000)\n",
    "fig, ax = plt.subplots(figsize=(10,7))  # make one subplot (ax) on the figure\n",
    "ax.hist(ndst,bins=30,alpha=0.5,density=True)\n",
    "ax.hist(ndst2,bins=30,alpha=0.5,density=True)\n",
    "ax.hist(ndst3,bins=30,alpha=0.5,density=True)\n",
    "plt.show()"
   ]
  },
  {
   "cell_type": "markdown",
   "metadata": {},
   "source": [
    "Since these are continuous random variables, the probability that the variable takes values in an interval is the area under the curve on the interval."
   ]
  },
  {
   "cell_type": "markdown",
   "metadata": {},
   "source": [
    "## An Example"
   ]
  },
  {
   "cell_type": "markdown",
   "metadata": {},
   "source": [
    "Let's look at a data set consisting of internal body temperatures for a group of 130 individuals."
   ]
  },
  {
   "cell_type": "code",
   "execution_count": 19,
   "metadata": {},
   "outputs": [
    {
     "data": {
      "text/html": [
       "<div>\n",
       "<style scoped>\n",
       "    .dataframe tbody tr th:only-of-type {\n",
       "        vertical-align: middle;\n",
       "    }\n",
       "\n",
       "    .dataframe tbody tr th {\n",
       "        vertical-align: top;\n",
       "    }\n",
       "\n",
       "    .dataframe thead th {\n",
       "        text-align: right;\n",
       "    }\n",
       "</style>\n",
       "<table border=\"1\" class=\"dataframe\">\n",
       "  <thead>\n",
       "    <tr style=\"text-align: right;\">\n",
       "      <th></th>\n",
       "      <th>temp</th>\n",
       "      <th>gender</th>\n",
       "      <th>hr</th>\n",
       "    </tr>\n",
       "  </thead>\n",
       "  <tbody>\n",
       "    <tr>\n",
       "      <th>0</th>\n",
       "      <td>96.3</td>\n",
       "      <td>1</td>\n",
       "      <td>70</td>\n",
       "    </tr>\n",
       "    <tr>\n",
       "      <th>1</th>\n",
       "      <td>96.7</td>\n",
       "      <td>1</td>\n",
       "      <td>71</td>\n",
       "    </tr>\n",
       "    <tr>\n",
       "      <th>2</th>\n",
       "      <td>96.9</td>\n",
       "      <td>1</td>\n",
       "      <td>74</td>\n",
       "    </tr>\n",
       "    <tr>\n",
       "      <th>3</th>\n",
       "      <td>97.0</td>\n",
       "      <td>1</td>\n",
       "      <td>80</td>\n",
       "    </tr>\n",
       "    <tr>\n",
       "      <th>4</th>\n",
       "      <td>97.1</td>\n",
       "      <td>1</td>\n",
       "      <td>73</td>\n",
       "    </tr>\n",
       "  </tbody>\n",
       "</table>\n",
       "</div>"
      ],
      "text/plain": [
       "   temp  gender  hr\n",
       "0  96.3       1  70\n",
       "1  96.7       1  71\n",
       "2  96.9       1  74\n",
       "3  97.0       1  80\n",
       "4  97.1       1  73"
      ]
     },
     "execution_count": 19,
     "metadata": {},
     "output_type": "execute_result"
    }
   ],
   "source": [
    "temp=pd.read_csv('normtemp.csv')\n",
    "temp.head()"
   ]
  },
  {
   "cell_type": "code",
   "execution_count": 20,
   "metadata": {},
   "outputs": [
    {
     "data": {
      "text/plain": [
       "(130, 3)"
      ]
     },
     "execution_count": 20,
     "metadata": {},
     "output_type": "execute_result"
    }
   ],
   "source": [
    "temp.shape"
   ]
  },
  {
   "cell_type": "markdown",
   "metadata": {},
   "source": [
    "Do internal body temperatures differ by gender? Let's see what our data looks like."
   ]
  },
  {
   "cell_type": "code",
   "execution_count": 21,
   "metadata": {},
   "outputs": [
    {
     "data": {
      "text/plain": [
       "[1, 2]"
      ]
     },
     "execution_count": 21,
     "metadata": {},
     "output_type": "execute_result"
    }
   ],
   "source": [
    "gen = sorted(temp['gender'].unique())\n",
    "gen"
   ]
  },
  {
   "cell_type": "code",
   "execution_count": 22,
   "metadata": {},
   "outputs": [],
   "source": [
    "tempM=temp[temp['gender']==1]\n",
    "tempF=temp[temp['gender']==2]"
   ]
  },
  {
   "cell_type": "code",
   "execution_count": 23,
   "metadata": {},
   "outputs": [
    {
     "name": "stdout",
     "output_type": "stream",
     "text": [
      "(65, 3) (65, 3)\n"
     ]
    }
   ],
   "source": [
    "print(tempM.shape,tempF.shape)"
   ]
  },
  {
   "cell_type": "markdown",
   "metadata": {},
   "source": [
    "We have equal numbers of men and women."
   ]
  },
  {
   "cell_type": "code",
   "execution_count": 24,
   "metadata": {},
   "outputs": [
    {
     "data": {
      "image/png": "[encoded data removed]",
      "text/plain": [
       "<Figure size 504x432 with 1 Axes>"
      ]
     },
     "metadata": {
      "needs_background": "light"
     },
     "output_type": "display_data"
    }
   ],
   "source": [
    "men=tempM['temp'].values\n",
    "wom=tempF['temp'].values\n",
    "fig, ax = plt.subplots(figsize=(7,6))\n",
    "ax.boxplot([men,wom])\n",
    "plt.show()"
   ]
  },
  {
   "cell_type": "markdown",
   "metadata": {},
   "source": [
    "It looks like the internal temperature of women is a bit higher than that of men. But the difference is small. "
   ]
  },
  {
   "cell_type": "code",
   "execution_count": 25,
   "metadata": {},
   "outputs": [
    {
     "data": {
      "text/html": [
       "<div>\n",
       "<style scoped>\n",
       "    .dataframe tbody tr th:only-of-type {\n",
       "        vertical-align: middle;\n",
       "    }\n",
       "\n",
       "    .dataframe tbody tr th {\n",
       "        vertical-align: top;\n",
       "    }\n",
       "\n",
       "    .dataframe thead th {\n",
       "        text-align: right;\n",
       "    }\n",
       "</style>\n",
       "<table border=\"1\" class=\"dataframe\">\n",
       "  <thead>\n",
       "    <tr style=\"text-align: right;\">\n",
       "      <th></th>\n",
       "      <th>temp</th>\n",
       "    </tr>\n",
       "    <tr>\n",
       "      <th>gender</th>\n",
       "      <th></th>\n",
       "    </tr>\n",
       "  </thead>\n",
       "  <tbody>\n",
       "    <tr>\n",
       "      <th>1</th>\n",
       "      <td>98.105</td>\n",
       "    </tr>\n",
       "    <tr>\n",
       "      <th>2</th>\n",
       "      <td>98.394</td>\n",
       "    </tr>\n",
       "  </tbody>\n",
       "</table>\n",
       "</div>"
      ],
      "text/plain": [
       "          temp\n",
       "gender        \n",
       "1       98.105\n",
       "2       98.394"
      ]
     },
     "execution_count": 25,
     "metadata": {},
     "output_type": "execute_result"
    }
   ],
   "source": [
    "temp[['temp','gender']].groupby('gender').mean().round(3)"
   ]
  },
  {
   "cell_type": "code",
   "execution_count": 26,
   "metadata": {},
   "outputs": [
    {
     "data": {
      "text/html": [
       "<div>\n",
       "<style scoped>\n",
       "    .dataframe tbody tr th:only-of-type {\n",
       "        vertical-align: middle;\n",
       "    }\n",
       "\n",
       "    .dataframe tbody tr th {\n",
       "        vertical-align: top;\n",
       "    }\n",
       "\n",
       "    .dataframe thead th {\n",
       "        text-align: right;\n",
       "    }\n",
       "</style>\n",
       "<table border=\"1\" class=\"dataframe\">\n",
       "  <thead>\n",
       "    <tr style=\"text-align: right;\">\n",
       "      <th></th>\n",
       "      <th>temp</th>\n",
       "    </tr>\n",
       "    <tr>\n",
       "      <th>gender</th>\n",
       "      <th></th>\n",
       "    </tr>\n",
       "  </thead>\n",
       "  <tbody>\n",
       "    <tr>\n",
       "      <th>1</th>\n",
       "      <td>0.699</td>\n",
       "    </tr>\n",
       "    <tr>\n",
       "      <th>2</th>\n",
       "      <td>0.743</td>\n",
       "    </tr>\n",
       "  </tbody>\n",
       "</table>\n",
       "</div>"
      ],
      "text/plain": [
       "         temp\n",
       "gender       \n",
       "1       0.699\n",
       "2       0.743"
      ]
     },
     "execution_count": 26,
     "metadata": {},
     "output_type": "execute_result"
    }
   ],
   "source": [
    "temp[['temp','gender']].groupby('gender').std().round(3)"
   ]
  },
  {
   "cell_type": "code",
   "execution_count": 27,
   "metadata": {},
   "outputs": [
    {
     "data": {
      "image/png": "[encoded data removed]",
      "text/plain": [
       "<Figure size 720x504 with 1 Axes>"
      ]
     },
     "metadata": {
      "needs_background": "light"
     },
     "output_type": "display_data"
    }
   ],
   "source": [
    "fig, ax = plt.subplots(figsize=(10,7))  # make one subplot (ax) on the figure\n",
    "ax.hist(tempM['temp'],bins=15,alpha=0.5,density=True,label='Male')\n",
    "ax.hist(tempF['temp'],bins=15,alpha=0.5,density=True,label='Female')\n",
    "ax.legend(loc='upper right')\n",
    "plt.show()"
   ]
  },
  {
   "cell_type": "markdown",
   "metadata": {},
   "source": [
    "## Here's a classical statistical problem. Comparing the mean of two samples."
   ]
  },
  {
   "cell_type": "markdown",
   "metadata": {},
   "source": [
    "Does body temperature differ by gender? Moreover, is there enough data here (this **sample** of 65 men and 65 women) to answer with any confidence? "
   ]
  },
  {
   "cell_type": "markdown",
   "metadata": {},
   "source": [
    "Let's make some assumptions about the data set. In particular, we assume that the set of men, and separately the set of women, are random samples from the underlying populations (men and women). This is a big assumption. We are saying that each person in the underlying population of men/women had an equally likely chance of appearing in our samples. This is almost certainly not true. On the other hand, if we have no reason to believe that there's systematic bias in the sampling procedure, we might expect that our sample is close enough to random so as to be representative of the respective underlying populations. Of course, if we picked all 65 men from the same rural town in Sweden, and all 65 women from an elite group of marathon runners, it would clearly be the case that our samples are not representative of the underlying populations. "
   ]
  },
  {
   "cell_type": "markdown",
   "metadata": {},
   "source": [
    "## Sampling Distribution"
   ]
  },
  {
   "cell_type": "markdown",
   "metadata": {},
   "source": [
    "If we could look at the populations in quesiton it would be easy to see if the average internal temperatures of the two groups is different (and by exactly how much). But we only have samples of 65 people. Obviously, had we chosen different samples, the average temperature of each sample would be slightly (or maybe not so slightly) different. Making an inference about a huge population from such a small sample of individuals seems like a daunting task."
   ]
  },
  {
   "cell_type": "markdown",
   "metadata": {},
   "source": [
    "Here's a thought experiment. Imagine taking a very large population and repeatedly drawing a sample of fixed size $n$. For each sample, compute the sample mean. Once we collect a large number of sample means, we plot the histogram and look at the distribution of values (the distribution of the sample means).  "
   ]
  },
  {
   "cell_type": "markdown",
   "metadata": {},
   "source": [
    "What does the distribution of the sample means look like? Amazingly, we know the answer. No matter what the underlying population distribution looks like, the sampling distribution of the sample means will be approximately normal (as long as the sample size is large enough). As the sample size increases the approximation gets better. This result is known as the **central limit theorem**.  "
   ]
  },
  {
   "cell_type": "markdown",
   "metadata": {},
   "source": [
    "Let's demonstrate this in Python."
   ]
  },
  {
   "cell_type": "markdown",
   "metadata": {},
   "source": [
    "We'll use an exponential distribution to represent the underlying population. It is clearly not normal: not bell shaped, symmetric."
   ]
  },
  {
   "cell_type": "code",
   "execution_count": 28,
   "metadata": {},
   "outputs": [],
   "source": [
    "expdst=np.random.exponential(scale=1, size=10000)"
   ]
  },
  {
   "cell_type": "code",
   "execution_count": 29,
   "metadata": {},
   "outputs": [
    {
     "data": {
      "image/png": "[encoded data removed]",
      "text/plain": [
       "<Figure size 720x504 with 1 Axes>"
      ]
     },
     "metadata": {
      "needs_background": "light"
     },
     "output_type": "display_data"
    }
   ],
   "source": [
    "fig, ax = plt.subplots(figsize=(10,7))  # make one subplot (ax) on the figure\n",
    "ax.hist(expdst,bins=20,label=\"exp dist\")\n",
    "ax.legend(loc='upper right')\n",
    "plt.show()"
   ]
  },
  {
   "cell_type": "markdown",
   "metadata": {},
   "source": [
    "Next, we simulate the process of repeatedly sampling from the distribution and computing the sample mean. We do this for various sample sizes, and store the results."
   ]
  },
  {
   "cell_type": "code",
   "execution_count": 30,
   "metadata": {},
   "outputs": [],
   "source": [
    "samples=np.empty([6,1000])\n",
    "sizes=[10,20,30,40,50,100]\n",
    "for i in range(6):\n",
    "    for j in range(1000):\n",
    "        samples[i,j]= np.mean(np.random.exponential(scale=1, size=sizes[i]))"
   ]
  },
  {
   "cell_type": "code",
   "execution_count": 31,
   "metadata": {},
   "outputs": [
    {
     "data": {
      "image/png": "[encoded data removed]",
      "text/plain": [
       "<Figure size 720x648 with 6 Axes>"
      ]
     },
     "metadata": {
      "needs_background": "light"
     },
     "output_type": "display_data"
    }
   ],
   "source": [
    "fig, axes = plt.subplots(nrows=3, ncols=2, figsize=(10,9))  # make one subplot (ax) on the figure\n",
    "axes = axes.flatten() # it comes out as a 2D matrix; convert to a vector\n",
    "axes[0].hist(samples[0,:],bins=30,alpha=0.5,density=True,label='n=10')\n",
    "axes[0].legend(loc='upper right')\n",
    "axes[1].hist(samples[1,:],bins=30,alpha=0.5,density=True,label='n=20')\n",
    "axes[1].legend(loc='upper right')\n",
    "axes[2].hist(samples[2,:],bins=30,alpha=0.5,density=True,label='n=30')\n",
    "axes[2].legend(loc='upper right')\n",
    "axes[3].hist(samples[3,:],bins=30,alpha=0.5,density=True,label='n=40')\n",
    "axes[3].legend(loc='upper right')\n",
    "axes[4].hist(samples[4,:],bins=30,alpha=0.5,density=True,label='n=50')\n",
    "axes[4].legend(loc='upper right')\n",
    "axes[5].hist(samples[5,:],bins=30,alpha=0.5,density=True,label='n=100')\n",
    "axes[5].legend(loc='upper right')\n",
    "plt.show()"
   ]
  },
  {
   "cell_type": "markdown",
   "metadata": {},
   "source": [
    "Moreover, the mean of the sampling distribution ($\\mu_{\\overline{x}}$) has mean equal to the population mean. \n",
    "$$\n",
    "\\mu_{\\overline{x}} =\\mu.\n",
    "$$\n",
    "\n",
    "If you look closely at the distributions above, you'll notice that the standard deviation gets smaller as the sample size increases. In fact, the central limit theorem tells us by exactly how much. The standard deviation of the sampling distribution (called the *standard error of the mean*, $SE_{\\overline{x}}$) is given by \n",
    "$$\n",
    "SE_{\\overline{x}} = \\frac{\\sigma}{\\sqrt{n}}.\n",
    "$$"
   ]
  },
  {
   "cell_type": "markdown",
   "metadata": {},
   "source": [
    "One final word: note that the distributions look pretty bell shaped and symmetric starting at $n=20$ or $n=30$, even though the population distribution was very non symmetric. In general, how big the sample size needs to be depends on the population distribution. In fact, if the underlying population is normal then the sampling distribution is normal for any sample size. If the underlying distribution is not normal, but is roughly mound shaped and symmetric, then the approximation will be reasonable for smaller sample sizes. If you know nothing about the underlying distribution, $n=30$ is a good rule of thumb for the sampling distribution to be approximately normal."
   ]
  },
  {
   "cell_type": "markdown",
   "metadata": {},
   "source": [
    "## Back to body temps"
   ]
  },
  {
   "cell_type": "markdown",
   "metadata": {},
   "source": [
    "We're almost ready to tackle the question of whether average body temperatures of men and women are different. The central limit theorem will let us turn this into a question about a normal distribution, but first we need one more fact."
   ]
  },
  {
   "cell_type": "markdown",
   "metadata": {},
   "source": [
    "Let $X$ be a normally distributed random variable with mean $\\mu_1$ and standard deviation $\\sigma_1$. We can abbreviate that $X\\sim N(\\mu_1,\\sigma_1)$. Moreover, suppose $Y\\sim N(\\mu_2,\\sigma_2)$. Then, the distribution of $X-Y$ is normal, with mean $\\mu_1-\\mu_2$ and standard deviation $\\sqrt{\\sigma_1^2+\\sigma_2^2}$. "
   ]
  },
  {
   "cell_type": "markdown",
   "metadata": {},
   "source": [
    "## Hypothesis testing and Confidence intervals"
   ]
  },
  {
   "cell_type": "markdown",
   "metadata": {},
   "source": [
    "Let's rephrase the body temperature question as folows. We have data that, not suprisingly, shows a difference between the body temperatures of men and women. But there's variability inherent in the sampling process. Maybe the difference we see is not at all unusual. In fact, maybe the difference we see is perfectly ordinary, and we would routinely see differences of this magnitude even when the samples are drawn from two groups having identical population means. "
   ]
  },
  {
   "cell_type": "markdown",
   "metadata": {},
   "source": [
    "We therefore make the following **null hypothesis**: There is no difference between average body temperatures of men and women. With that assumption made, and using the fact above along with the central limit theorem, the distribution of the difference in sample means, from samples of 65 men and women respectively, is normally distributed with mean 0. The alternative hypothesis is that there **is** a difference. We can now use the data in hand to assess the evidence against the null hypothesis. How unusual would our data be if the null hypothesis were true?"
   ]
  },
  {
   "cell_type": "markdown",
   "metadata": {},
   "source": [
    "Computing probabilities in $N(\\mu,\\sigma)$ and $N(0,1)$: $Z\\sim \\frac{X-\\mu}{\\sigma}$ "
   ]
  },
  {
   "cell_type": "markdown",
   "metadata": {},
   "source": [
    "In $N(\\mu_{\\overline{x}},\\sigma_{\\overline{x}})$,\n",
    "$$\n",
    "Z\\sim \\frac{\\overline{x}-\\mu}{\\frac{\\sigma}{\\sqrt{n}}}\n",
    "$$"
   ]
  },
  {
   "cell_type": "markdown",
   "metadata": {},
   "source": [
    "Under $H_0$, in $N(\\mu_{\\overline{x}-\\overline{y}},\\sigma_{\\overline{x}-\\overline{x}})$ \n",
    "$$\\frac{(\\overline{x}-\\overline{y})-0}\n",
    "{\\sqrt{\\sigma_{\\overline{x}}^2+\\sigma_\\overline{y}^2}} = \\frac{\\overline{x}-\\overline{y}}\n",
    "{\\sqrt{\\sigma_1^2/n_1+\\sigma_2^2/n_2}}\n",
    "$$"
   ]
  },
  {
   "cell_type": "code",
   "execution_count": 32,
   "metadata": {},
   "outputs": [
    {
     "data": {
      "text/plain": [
       "0.5"
      ]
     },
     "execution_count": 32,
     "metadata": {},
     "output_type": "execute_result"
    }
   ],
   "source": [
    "import scipy.stats\n",
    "scipy.stats.norm(0, 1).cdf(0)"
   ]
  },
  {
   "cell_type": "code",
   "execution_count": 33,
   "metadata": {},
   "outputs": [
    {
     "data": {
      "text/plain": [
       "0.6826894921370859"
      ]
     },
     "execution_count": 33,
     "metadata": {},
     "output_type": "execute_result"
    }
   ],
   "source": [
    "scipy.stats.norm(0, 1).cdf(1)-scipy.stats.norm(0, 1).cdf(-1)"
   ]
  },
  {
   "cell_type": "code",
   "execution_count": 34,
   "metadata": {},
   "outputs": [],
   "source": [
    "def z(x):\n",
    "    return scipy.stats.norm(0, 1).cdf(x)"
   ]
  },
  {
   "cell_type": "code",
   "execution_count": 35,
   "metadata": {},
   "outputs": [
    {
     "name": "stdout",
     "output_type": "stream",
     "text": [
      "0.6826894921370859 -- 0.9544997361036416 -- 0.9973002039367398\n"
     ]
    }
   ],
   "source": [
    "print(z(1)-z(-1),\"--\",z(2)-z(-2),\"--\",z(3)-z(-3))"
   ]
  },
  {
   "cell_type": "code",
   "execution_count": 36,
   "metadata": {},
   "outputs": [],
   "source": [
    "data=temp[['temp','gender']].groupby('gender').mean()\n",
    "datasd=temp[['temp','gender']].groupby('gender').std()"
   ]
  },
  {
   "cell_type": "code",
   "execution_count": 37,
   "metadata": {},
   "outputs": [
    {
     "data": {
      "text/html": [
       "<div>\n",
       "<style scoped>\n",
       "    .dataframe tbody tr th:only-of-type {\n",
       "        vertical-align: middle;\n",
       "    }\n",
       "\n",
       "    .dataframe tbody tr th {\n",
       "        vertical-align: top;\n",
       "    }\n",
       "\n",
       "    .dataframe thead th {\n",
       "        text-align: right;\n",
       "    }\n",
       "</style>\n",
       "<table border=\"1\" class=\"dataframe\">\n",
       "  <thead>\n",
       "    <tr style=\"text-align: right;\">\n",
       "      <th></th>\n",
       "      <th>temp</th>\n",
       "    </tr>\n",
       "    <tr>\n",
       "      <th>gender</th>\n",
       "      <th></th>\n",
       "    </tr>\n",
       "  </thead>\n",
       "  <tbody>\n",
       "    <tr>\n",
       "      <th>1</th>\n",
       "      <td>98.104615</td>\n",
       "    </tr>\n",
       "    <tr>\n",
       "      <th>2</th>\n",
       "      <td>98.393846</td>\n",
       "    </tr>\n",
       "  </tbody>\n",
       "</table>\n",
       "</div>"
      ],
      "text/plain": [
       "             temp\n",
       "gender           \n",
       "1       98.104615\n",
       "2       98.393846"
      ]
     },
     "execution_count": 37,
     "metadata": {},
     "output_type": "execute_result"
    }
   ],
   "source": [
    "data"
   ]
  },
  {
   "cell_type": "code",
   "execution_count": 38,
   "metadata": {},
   "outputs": [
    {
     "data": {
      "text/plain": [
       "0.2892307692307554"
      ]
     },
     "execution_count": 38,
     "metadata": {},
     "output_type": "execute_result"
    }
   ],
   "source": [
    "diff=data['temp'].iloc[1]-data['temp'].iloc[0]\n",
    "diff"
   ]
  },
  {
   "cell_type": "code",
   "execution_count": 39,
   "metadata": {},
   "outputs": [
    {
     "data": {
      "text/html": [
       "<div>\n",
       "<style scoped>\n",
       "    .dataframe tbody tr th:only-of-type {\n",
       "        vertical-align: middle;\n",
       "    }\n",
       "\n",
       "    .dataframe tbody tr th {\n",
       "        vertical-align: top;\n",
       "    }\n",
       "\n",
       "    .dataframe thead th {\n",
       "        text-align: right;\n",
       "    }\n",
       "</style>\n",
       "<table border=\"1\" class=\"dataframe\">\n",
       "  <thead>\n",
       "    <tr style=\"text-align: right;\">\n",
       "      <th></th>\n",
       "      <th>temp</th>\n",
       "    </tr>\n",
       "    <tr>\n",
       "      <th>gender</th>\n",
       "      <th></th>\n",
       "    </tr>\n",
       "  </thead>\n",
       "  <tbody>\n",
       "    <tr>\n",
       "      <th>1</th>\n",
       "      <td>0.698756</td>\n",
       "    </tr>\n",
       "    <tr>\n",
       "      <th>2</th>\n",
       "      <td>0.743488</td>\n",
       "    </tr>\n",
       "  </tbody>\n",
       "</table>\n",
       "</div>"
      ],
      "text/plain": [
       "            temp\n",
       "gender          \n",
       "1       0.698756\n",
       "2       0.743488"
      ]
     },
     "execution_count": 39,
     "metadata": {},
     "output_type": "execute_result"
    }
   ],
   "source": [
    "datasd"
   ]
  },
  {
   "cell_type": "markdown",
   "metadata": {},
   "source": [
    "One last problem. We don't actually know the population standard deviations. Turns out this isn't a huge problem but for now let's just assume the sample standard deviations are the same as the population standard deviations."
   ]
  },
  {
   "cell_type": "code",
   "execution_count": 40,
   "metadata": {},
   "outputs": [],
   "source": [
    "s1=datasd['temp'].iloc[1]\n",
    "s2=datasd['temp'].iloc[0]"
   ]
  },
  {
   "cell_type": "code",
   "execution_count": 41,
   "metadata": {},
   "outputs": [
    {
     "data": {
      "text/plain": [
       "2.2854345381654757"
      ]
     },
     "execution_count": 41,
     "metadata": {},
     "output_type": "execute_result"
    }
   ],
   "source": [
    "zscore=diff/np.sqrt((s1**2/65)+(s2**2/65))\n",
    "zscore"
   ]
  },
  {
   "cell_type": "markdown",
   "metadata": {},
   "source": [
    "Thus, our difference in sample means is about 2.29 standard deviations above the mean. We can quantify how unusual this is. We simply find the probability of getting a sample mean difference as or more extreme than this one, when the null hypothesis is true. That is, if we actually do live in $N(0,1)$, how often would we get a sample mean difference more than 2.29 standard deviations from the mean simply by chance alone?  "
   ]
  },
  {
   "cell_type": "markdown",
   "metadata": {},
   "source": [
    "A random value chosen from $N(0,1)$ can be 2.29 standard deviations from the mean in either direction (above or below). Thus, we find $P(Z<-2.29)+P(Z>2.29)$."
   ]
  },
  {
   "cell_type": "code",
   "execution_count": 42,
   "metadata": {},
   "outputs": [
    {
     "data": {
      "text/plain": [
       "0.022021316648822776"
      ]
     },
     "execution_count": 42,
     "metadata": {},
     "output_type": "execute_result"
    }
   ],
   "source": [
    "2*z(-2.29)"
   ]
  },
  {
   "cell_type": "markdown",
   "metadata": {},
   "source": [
    "This is the $p$-value: The probability of getting sample data as or more extreme than ours when the null hypothesis is true."
   ]
  },
  {
   "cell_type": "markdown",
   "metadata": {},
   "source": [
    "If the null hypothesis were true, sample data like ours would occur by chance about 2.2\\% of the time."
   ]
  },
  {
   "cell_type": "markdown",
   "metadata": {},
   "source": [
    "That seems unlikely. (But certainly not impossible.) At this point we have to make a decision. We can either declare that this $p$-value is so small that we attrribute the unusual nature of our sample data *not* to chance, but rather to an incorrect assumption that the null hypothesis was true. Rejecting the null hypothesis means that we have given evidence that the alternative hypothesis, that there *is* a difference in body temperature between the two groups."
   ]
  },
  {
   "cell_type": "markdown",
   "metadata": {},
   "source": [
    "Ultimately, this decision is subjective. When we reject the null hypothesis, there's always a chance that we did so in error. The threshold for our willingness to be wrong is called the significance level, $\\alpha$. Typically, $\\alpha$ is taken to be 0.05 or 0.01, meaning that we will reject $H_0$ when we see data that would occur by chance (when $H_0$ is true) less that 5% or 1\\% of the time, respectively. Of course, the significance level $\\alpha$ should be set before the analysis is done."
   ]
  },
  {
   "cell_type": "markdown",
   "metadata": {},
   "source": [
    "In our analysis above, we would reject $H_0$ at the $\\alpha=0.05$ level of significance (but fail to reject at $\\alpha=0.01$)."
   ]
  },
  {
   "cell_type": "markdown",
   "metadata": {},
   "source": [
    "## T-statistic"
   ]
  },
  {
   "cell_type": "markdown",
   "metadata": {},
   "source": [
    "We made the assumption that the sample stadard deviations were equal to the population standard deviations. That's certainly not true, though the sample standard deviations are not bad estimates. If we use the sample standard deviations (write $s$ for the sample standard deviation and $\\sigma$ for the population), we introduce a bit more variability into the distribution of sample means. Luckily, the extra variability can be quantified so that the resulting distribution, while no longer normal, follows another well known distribution called the student's $t$-distribution. "
   ]
  },
  {
   "cell_type": "markdown",
   "metadata": {},
   "source": [
    "Calling the $t$-distribution is more complicated but we can do so in Python:"
   ]
  },
  {
   "cell_type": "code",
   "execution_count": 43,
   "metadata": {},
   "outputs": [],
   "source": [
    "m=tempM['temp']\n",
    "w=tempF['temp']"
   ]
  },
  {
   "cell_type": "markdown",
   "metadata": {},
   "source": [
    "Let's test the hypothesis that the means of the two groups are equal."
   ]
  },
  {
   "cell_type": "code",
   "execution_count": 44,
   "metadata": {},
   "outputs": [
    {
     "data": {
      "text/plain": [
       "Ttest_indResult(statistic=2.2854345381654984, pvalue=0.023938264182940983)"
      ]
     },
     "execution_count": 44,
     "metadata": {},
     "output_type": "execute_result"
    }
   ],
   "source": [
    "scipy.stats.ttest_ind(w,m, equal_var = False)"
   ]
  },
  {
   "cell_type": "markdown",
   "metadata": {},
   "source": [
    "This computes both the value of the t-statistic (2.285) and the $p$-value associated with the test. Note that the $p$-value is slighly larger than the one we found using the normal distribution. This is because the $t$-distribution has more variability, and more area in the tails of the distribution reflecting the added uncertainty from using the sample standard deviations as approximations."
   ]
  },
  {
   "cell_type": "markdown",
   "metadata": {},
   "source": [
    "Recall that the sample standard deviation is\n",
    "$$\n",
    "s=\\sqrt{\\frac{1}{n-1}\\sum_x(x-\\overline{x})^2}\n",
    "$$"
   ]
  },
  {
   "cell_type": "code",
   "execution_count": 45,
   "metadata": {},
   "outputs": [
    {
     "data": {
      "text/plain": [
       "1.0"
      ]
     },
     "execution_count": 45,
     "metadata": {},
     "output_type": "execute_result"
    }
   ],
   "source": [
    "scipy.stats.tstd([1,0,-1])"
   ]
  },
  {
   "cell_type": "code",
   "execution_count": 46,
   "metadata": {},
   "outputs": [
    {
     "data": {
      "text/plain": [
       "0.816496580927726"
      ]
     },
     "execution_count": 46,
     "metadata": {},
     "output_type": "execute_result"
    }
   ],
   "source": [
    "np.std([1,0,-1])"
   ]
  },
  {
   "cell_type": "code",
   "execution_count": 47,
   "metadata": {},
   "outputs": [],
   "source": [
    "tdata=np.random.normal(loc=10,scale=9,size=(10000,9))\n",
    "tdst=(np.mean(tdata,axis=1)-10)/(np.std(tdata,axis=1,ddof=1)/3)\n",
    "ndst=(np.mean(tdata,axis=1)-10)/3"
   ]
  },
  {
   "cell_type": "code",
   "execution_count": 48,
   "metadata": {},
   "outputs": [
    {
     "data": {
      "image/png": "[encoded data removed]",
      "text/plain": [
       "<Figure size 720x504 with 1 Axes>"
      ]
     },
     "metadata": {
      "needs_background": "light"
     },
     "output_type": "display_data"
    }
   ],
   "source": [
    "fig, ax = plt.subplots(figsize=(10,7))  # make one subplot (ax) on the figure\n",
    "ax.hist(tdst,bins=30,alpha=0.5,density=True,label=\"t\")\n",
    "ax.hist(ndst,bins=30,alpha=0.5,density=True,label=\"n\")\n",
    "ax.legend(loc='upper right')\n",
    "plt.show()"
   ]
  },
  {
   "cell_type": "code",
   "execution_count": 49,
   "metadata": {},
   "outputs": [
    {
     "name": "stdout",
     "output_type": "stream",
     "text": [
      "P(t>1)= 0.1721 : P(Z>1)= 0.1527\n"
     ]
    }
   ],
   "source": [
    "print(\"P(t>1)=\",sum(tdst>1)/10000,\":\",\"P(Z>1)=\",sum(ndst>1)/10000)"
   ]
  },
  {
   "cell_type": "markdown",
   "metadata": {},
   "source": [
    "As sample size increases, the $t$-distribution gets closer to the standard normal distribution."
   ]
  },
  {
   "cell_type": "markdown",
   "metadata": {},
   "source": [
    "We can compute areas in the t-distribution using the cdf."
   ]
  },
  {
   "cell_type": "markdown",
   "metadata": {},
   "source": [
    "```stats.t.cdf(x,df)``` gives $P(t<x)$ with df degrees of freedom."
   ]
  },
  {
   "cell_type": "code",
   "execution_count": 50,
   "metadata": {},
   "outputs": [
    {
     "data": {
      "text/plain": [
       "0.5"
      ]
     },
     "execution_count": 50,
     "metadata": {},
     "output_type": "execute_result"
    }
   ],
   "source": [
    "scipy.stats.t.cdf(0, 5)"
   ]
  },
  {
   "cell_type": "code",
   "execution_count": 51,
   "metadata": {},
   "outputs": [
    {
     "data": {
      "text/plain": [
       "0.9490302605850709"
      ]
     },
     "execution_count": 51,
     "metadata": {},
     "output_type": "execute_result"
    }
   ],
   "source": [
    "scipy.stats.t.cdf(2, 5)"
   ]
  },
  {
   "cell_type": "code",
   "execution_count": 52,
   "metadata": {},
   "outputs": [
    {
     "data": {
      "text/plain": [
       "0.9633059826146297"
      ]
     },
     "execution_count": 52,
     "metadata": {},
     "output_type": "execute_result"
    }
   ],
   "source": [
    "scipy.stats.t.cdf(2, 10)"
   ]
  },
  {
   "cell_type": "markdown",
   "metadata": {},
   "source": [
    "You can also compute confidence intervals. I'm getting tired of typing ```scipy.stats.t``` so let's shorten it:"
   ]
  },
  {
   "cell_type": "code",
   "execution_count": 53,
   "metadata": {},
   "outputs": [],
   "source": [
    "from scipy.stats import t "
   ]
  },
  {
   "cell_type": "markdown",
   "metadata": {},
   "source": [
    "Now, the interval function ```t.interval(pct,df)``` gives the endpoints of the interval with $pct$ area under the t-distribution between those values (with df degrees of freedom): "
   ]
  },
  {
   "cell_type": "code",
   "execution_count": 54,
   "metadata": {},
   "outputs": [
    {
     "data": {
      "text/plain": [
       "(-2.2281388519649385, 2.2281388519649385)"
      ]
     },
     "execution_count": 54,
     "metadata": {},
     "output_type": "execute_result"
    }
   ],
   "source": [
    "t.interval(0.95, 10)"
   ]
  },
  {
   "cell_type": "code",
   "execution_count": 55,
   "metadata": {},
   "outputs": [
    {
     "data": {
      "text/plain": [
       "0.9500000973169969"
      ]
     },
     "execution_count": 55,
     "metadata": {},
     "output_type": "execute_result"
    }
   ],
   "source": [
    "scipy.stats.t.cdf(2.22814, 10)-scipy.stats.t.cdf(-2.22814, 10)"
   ]
  },
  {
   "cell_type": "markdown",
   "metadata": {},
   "source": [
    "Hence, if you wanted a $95\\%$ cofidence interval for the mean body temp of men:"
   ]
  },
  {
   "cell_type": "code",
   "execution_count": 56,
   "metadata": {},
   "outputs": [],
   "source": [
    "mt=tempM.temp.mean()\n",
    "n=len(tempM)\n",
    "s=tempM.temp.std()"
   ]
  },
  {
   "cell_type": "code",
   "execution_count": 57,
   "metadata": {},
   "outputs": [
    {
     "name": "stdout",
     "output_type": "stream",
     "text": [
      "( 97.93147218445705 98.27775858477375 )\n"
     ]
    }
   ],
   "source": [
    "print(\"(\",mt+t.interval(0.95, n-1)[0]*s/np.sqrt(n),mt+t.interval(0.95, n-1)[1]*s/np.sqrt(n),\")\")"
   ]
  },
  {
   "cell_type": "markdown",
   "metadata": {},
   "source": [
    "If we had the same mean but a sample of only 10 instead of 65 men, the interval would be wider: (now df=9)"
   ]
  },
  {
   "cell_type": "code",
   "execution_count": 58,
   "metadata": {},
   "outputs": [
    {
     "name": "stdout",
     "output_type": "stream",
     "text": [
      "( 97.9085542560702 98.60447514476988 )\n"
     ]
    }
   ],
   "source": [
    "print(\"(\",mt+t.interval(0.95, 9)[0]*s/np.sqrt(n),mt+t.interval(0.95, 9)[1]*s/np.sqrt(10),\")\")"
   ]
  },
  {
   "cell_type": "markdown",
   "metadata": {},
   "source": [
    "You can also generate random samples from the t-dist:"
   ]
  },
  {
   "cell_type": "code",
   "execution_count": 59,
   "metadata": {},
   "outputs": [],
   "source": [
    "r = t.rvs(8, size=1000)"
   ]
  },
  {
   "cell_type": "code",
   "execution_count": 60,
   "metadata": {},
   "outputs": [
    {
     "data": {
      "image/png": "[encoded data removed]",
      "text/plain": [
       "<Figure size 504x360 with 1 Axes>"
      ]
     },
     "metadata": {
      "needs_background": "light"
     },
     "output_type": "display_data"
    }
   ],
   "source": [
    "fig, ax = plt.subplots(figsize=(7,5))  # make one subplot (ax) on the figure\n",
    "ax.hist(r,bins=30,alpha=0.5,density=True)\n",
    "plt.show()"
   ]
  },
  {
   "cell_type": "markdown",
   "metadata": {},
   "source": [
    "## Bootstrapping"
   ]
  },
  {
   "cell_type": "markdown",
   "metadata": {},
   "source": [
    "Let's say we were in a situation where the CLT was not helpful. Maybe we are looking at the distribution of something other than a sample mean, for instance. In that case, we may not know anything about the underlying distribution. "
   ]
  },
  {
   "cell_type": "markdown",
   "metadata": {},
   "source": [
    "As an example, imagine we *didn't* know about the CLT but still wanted to estimate the distribution of the difference in mean internal body temperature between  men and women. "
   ]
  },
  {
   "cell_type": "markdown",
   "metadata": {},
   "source": [
    "One option is to take advantage of the computer to simulate the sampling distribution."
   ]
  },
  {
   "cell_type": "markdown",
   "metadata": {},
   "source": [
    "This is the idea of bootstrapping: treat the sample as the population and repeatedly re-sample with replacement."
   ]
  },
  {
   "cell_type": "code",
   "execution_count": 117,
   "metadata": {},
   "outputs": [
    {
     "data": {
      "text/html": [
       "<div>\n",
       "<style scoped>\n",
       "    .dataframe tbody tr th:only-of-type {\n",
       "        vertical-align: middle;\n",
       "    }\n",
       "\n",
       "    .dataframe tbody tr th {\n",
       "        vertical-align: top;\n",
       "    }\n",
       "\n",
       "    .dataframe thead th {\n",
       "        text-align: right;\n",
       "    }\n",
       "</style>\n",
       "<table border=\"1\" class=\"dataframe\">\n",
       "  <thead>\n",
       "    <tr style=\"text-align: right;\">\n",
       "      <th></th>\n",
       "      <th>temp</th>\n",
       "      <th>gender</th>\n",
       "      <th>hr</th>\n",
       "    </tr>\n",
       "  </thead>\n",
       "  <tbody>\n",
       "    <tr>\n",
       "      <th>0</th>\n",
       "      <td>96.3</td>\n",
       "      <td>1</td>\n",
       "      <td>70</td>\n",
       "    </tr>\n",
       "    <tr>\n",
       "      <th>1</th>\n",
       "      <td>96.7</td>\n",
       "      <td>1</td>\n",
       "      <td>71</td>\n",
       "    </tr>\n",
       "    <tr>\n",
       "      <th>2</th>\n",
       "      <td>96.9</td>\n",
       "      <td>1</td>\n",
       "      <td>74</td>\n",
       "    </tr>\n",
       "    <tr>\n",
       "      <th>3</th>\n",
       "      <td>97.0</td>\n",
       "      <td>1</td>\n",
       "      <td>80</td>\n",
       "    </tr>\n",
       "    <tr>\n",
       "      <th>4</th>\n",
       "      <td>97.1</td>\n",
       "      <td>1</td>\n",
       "      <td>73</td>\n",
       "    </tr>\n",
       "  </tbody>\n",
       "</table>\n",
       "</div>"
      ],
      "text/plain": [
       "   temp  gender  hr\n",
       "0  96.3       1  70\n",
       "1  96.7       1  71\n",
       "2  96.9       1  74\n",
       "3  97.0       1  80\n",
       "4  97.1       1  73"
      ]
     },
     "execution_count": 117,
     "metadata": {},
     "output_type": "execute_result"
    }
   ],
   "source": [
    "temp.head()"
   ]
  },
  {
   "cell_type": "code",
   "execution_count": 118,
   "metadata": {},
   "outputs": [],
   "source": [
    "tempM=temp"
   ]
  },
  {
   "cell_type": "code",
   "execution_count": 119,
   "metadata": {},
   "outputs": [],
   "source": [
    "boot=[]\n",
    "s_meanM = tempM.temp.mean()\n",
    "s_meanF = tempF.temp.mean()\n",
    "s_diff=s_meanF - s_meanM\n",
    "for i in range(1000):\n",
    "    tmpM=tempM.sample(frac=1,replace=True)\n",
    "    tmpF=tempF.sample(frac=1,replace=True)\n",
    "    diff=tmpF['temp'].mean()-tmpM['temp'].mean()\n",
    "    boot.append(s_diff - diff)"
   ]
  },
  {
   "cell_type": "code",
   "execution_count": 120,
   "metadata": {},
   "outputs": [
    {
     "data": {
      "image/png": "[encoded data removed]",
      "text/plain": [
       "<Figure size 720x504 with 1 Axes>"
      ]
     },
     "metadata": {
      "needs_background": "light"
     },
     "output_type": "display_data"
    }
   ],
   "source": [
    "fig, ax = plt.subplots(figsize=(10,7))  # make one subplot (ax) on the figure\n",
    "ax.hist(boot,bins=30,density=True)\n",
    "plt.show()"
   ]
  },
  {
   "cell_type": "code",
   "execution_count": 121,
   "metadata": {},
   "outputs": [
    {
     "data": {
      "text/plain": [
       "0.0031146153846311224"
      ]
     },
     "execution_count": 121,
     "metadata": {},
     "output_type": "execute_result"
    }
   ],
   "source": [
    "np.mean(np.array(boot))"
   ]
  },
  {
   "cell_type": "markdown",
   "metadata": {},
   "source": [
    "The above approximates the variability in the distribution of the difference in the sample means by resampling, and using the actual sample means to approximate the population means."
   ]
  },
  {
   "cell_type": "code",
   "execution_count": 122,
   "metadata": {},
   "outputs": [
    {
     "name": "stdout",
     "output_type": "stream",
     "text": [
      "95 pct CI: ( -0.197 0.2062 )\n"
     ]
    }
   ],
   "source": [
    "low=np.round(np.percentile(np.array(boot),2.5),4)\n",
    "high=np.round(np.percentile(np.array(boot),97.5),4)\n",
    "print(\"95 pct CI:\",\"(\",low,high,\")\")"
   ]
  },
  {
   "cell_type": "code",
   "execution_count": 123,
   "metadata": {},
   "outputs": [
    {
     "name": "stdout",
     "output_type": "stream",
     "text": [
      "-0.06158461538460808 0.3416153846153919\n"
     ]
    }
   ],
   "source": [
    "print(s_meanF-s_meanM - high, s_meanF-s_meanM - low)"
   ]
  },
  {
   "cell_type": "markdown",
   "metadata": {},
   "source": [
    "It's slightly less convenient to do a confidence interval for teh difference in two means using scipy. Instead, we can use the statsmodels package. (This uses the Welch confidence interval and does the ugly df calculation automatically.) "
   ]
  },
  {
   "cell_type": "code",
   "execution_count": 124,
   "metadata": {},
   "outputs": [],
   "source": [
    "import statsmodels.stats.api as sms"
   ]
  },
  {
   "cell_type": "code",
   "execution_count": 125,
   "metadata": {},
   "outputs": [
    {
     "data": {
      "text/plain": [
       "(-0.07786044276036494, 0.3670912119911488)"
      ]
     },
     "execution_count": 125,
     "metadata": {},
     "output_type": "execute_result"
    }
   ],
   "source": [
    "cm = sms.CompareMeans(sms.DescrStatsW(tempF.temp), sms.DescrStatsW(tempM.temp))\n",
    "cm.tconfint_diff(usevar='unequal')"
   ]
  },
  {
   "cell_type": "markdown",
   "metadata": {},
   "source": [
    "Compare to the bootstrapped confidence interval above. Very close! Note that neither this interval nor the bootstrapped interval include 0. Why does that make sense given the result of the hypothes test we performed above? Here it is again:"
   ]
  },
  {
   "cell_type": "code",
   "execution_count": 126,
   "metadata": {},
   "outputs": [
    {
     "data": {
      "text/plain": [
       "Ttest_indResult(statistic=2.2854345381654984, pvalue=0.023938264182940983)"
      ]
     },
     "execution_count": 126,
     "metadata": {},
     "output_type": "execute_result"
    }
   ],
   "source": [
    "scipy.stats.ttest_ind(w,m, equal_var = False)"
   ]
  },
  {
   "cell_type": "markdown",
   "metadata": {},
   "source": [
    "## Exercises"
   ]
  },
  {
   "cell_type": "markdown",
   "metadata": {},
   "source": [
    "1. Compare the value of the 97th percentile in the standard normal distribution to the corresponding 97th percentile in the $t$-distribution for various values of the sample size and df. At what sample size do the values become nearly indentical? \n",
    "2. Use the bootstrap to give a $95\\%$ confidence interval for the *median* internal body temperatures of the F group.\n",
    "3. Is there evidence that the average heart rates differ between the two groups? (Heart Rate was the other column in the ```temp``` data frame.) Find a 95% confidence interval for the true difference of the mean heart rates.\n",
    "4. What is the result of testing the hypothesis that the mean body temps of men and women are equal at the $\\alpha=0.01$ level of significance? \n",
    "5. Now use the code above to bootstrap a 99% confidence interval for the difference in the means. Does the result align with your answer in 4?\n",
    "6. Does the temperature data for SF and Raleigh provide evidence that the true mean annual temperatures of the two cities differs? "
   ]
  },
  {
   "cell_type": "markdown",
   "metadata": {},
   "source": [
    "## More/Extra data and visualizations"
   ]
  },
  {
   "cell_type": "code",
   "execution_count": 127,
   "metadata": {},
   "outputs": [
    {
     "data": {
      "text/html": [
       "<div>\n",
       "<style scoped>\n",
       "    .dataframe tbody tr th:only-of-type {\n",
       "        vertical-align: middle;\n",
       "    }\n",
       "\n",
       "    .dataframe tbody tr th {\n",
       "        vertical-align: top;\n",
       "    }\n",
       "\n",
       "    .dataframe thead th {\n",
       "        text-align: right;\n",
       "    }\n",
       "</style>\n",
       "<table border=\"1\" class=\"dataframe\">\n",
       "  <thead>\n",
       "    <tr style=\"text-align: right;\">\n",
       "      <th></th>\n",
       "      <th>Unnamed: 0</th>\n",
       "      <th>mpg</th>\n",
       "      <th>cylinders</th>\n",
       "      <th>displacement</th>\n",
       "      <th>horsepower</th>\n",
       "      <th>weight</th>\n",
       "      <th>acceleration</th>\n",
       "      <th>year</th>\n",
       "      <th>origin</th>\n",
       "      <th>name</th>\n",
       "    </tr>\n",
       "  </thead>\n",
       "  <tbody>\n",
       "    <tr>\n",
       "      <th>0</th>\n",
       "      <td>0</td>\n",
       "      <td>18.0</td>\n",
       "      <td>8</td>\n",
       "      <td>307.0</td>\n",
       "      <td>130</td>\n",
       "      <td>3504</td>\n",
       "      <td>12.0</td>\n",
       "      <td>70</td>\n",
       "      <td>1</td>\n",
       "      <td>chevrolet chevelle malibu</td>\n",
       "    </tr>\n",
       "    <tr>\n",
       "      <th>1</th>\n",
       "      <td>1</td>\n",
       "      <td>15.0</td>\n",
       "      <td>8</td>\n",
       "      <td>350.0</td>\n",
       "      <td>165</td>\n",
       "      <td>3693</td>\n",
       "      <td>11.5</td>\n",
       "      <td>70</td>\n",
       "      <td>1</td>\n",
       "      <td>buick skylark 320</td>\n",
       "    </tr>\n",
       "    <tr>\n",
       "      <th>2</th>\n",
       "      <td>2</td>\n",
       "      <td>18.0</td>\n",
       "      <td>8</td>\n",
       "      <td>318.0</td>\n",
       "      <td>150</td>\n",
       "      <td>3436</td>\n",
       "      <td>11.0</td>\n",
       "      <td>70</td>\n",
       "      <td>1</td>\n",
       "      <td>plymouth satellite</td>\n",
       "    </tr>\n",
       "    <tr>\n",
       "      <th>3</th>\n",
       "      <td>3</td>\n",
       "      <td>16.0</td>\n",
       "      <td>8</td>\n",
       "      <td>304.0</td>\n",
       "      <td>150</td>\n",
       "      <td>3433</td>\n",
       "      <td>12.0</td>\n",
       "      <td>70</td>\n",
       "      <td>1</td>\n",
       "      <td>amc rebel sst</td>\n",
       "    </tr>\n",
       "    <tr>\n",
       "      <th>4</th>\n",
       "      <td>4</td>\n",
       "      <td>17.0</td>\n",
       "      <td>8</td>\n",
       "      <td>302.0</td>\n",
       "      <td>140</td>\n",
       "      <td>3449</td>\n",
       "      <td>10.5</td>\n",
       "      <td>70</td>\n",
       "      <td>1</td>\n",
       "      <td>ford torino</td>\n",
       "    </tr>\n",
       "  </tbody>\n",
       "</table>\n",
       "</div>"
      ],
      "text/plain": [
       "   Unnamed: 0   mpg  cylinders  displacement horsepower  weight  acceleration  \\\n",
       "0           0  18.0          8         307.0        130    3504          12.0   \n",
       "1           1  15.0          8         350.0        165    3693          11.5   \n",
       "2           2  18.0          8         318.0        150    3436          11.0   \n",
       "3           3  16.0          8         304.0        150    3433          12.0   \n",
       "4           4  17.0          8         302.0        140    3449          10.5   \n",
       "\n",
       "   year  origin                       name  \n",
       "0    70       1  chevrolet chevelle malibu  \n",
       "1    70       1          buick skylark 320  \n",
       "2    70       1         plymouth satellite  \n",
       "3    70       1              amc rebel sst  \n",
       "4    70       1                ford torino  "
      ]
     },
     "execution_count": 127,
     "metadata": {},
     "output_type": "execute_result"
    }
   ],
   "source": [
    "cars=pd.read_csv('morecars.csv')\n",
    "cars.head()"
   ]
  },
  {
   "cell_type": "code",
   "execution_count": 128,
   "metadata": {},
   "outputs": [
    {
     "data": {
      "text/html": [
       "<div>\n",
       "<style scoped>\n",
       "    .dataframe tbody tr th:only-of-type {\n",
       "        vertical-align: middle;\n",
       "    }\n",
       "\n",
       "    .dataframe tbody tr th {\n",
       "        vertical-align: top;\n",
       "    }\n",
       "\n",
       "    .dataframe thead th {\n",
       "        text-align: right;\n",
       "    }\n",
       "</style>\n",
       "<table border=\"1\" class=\"dataframe\">\n",
       "  <thead>\n",
       "    <tr style=\"text-align: right;\">\n",
       "      <th></th>\n",
       "      <th>Unnamed: 0</th>\n",
       "      <th>mpg</th>\n",
       "      <th>cylinders</th>\n",
       "      <th>displacement</th>\n",
       "      <th>weight</th>\n",
       "      <th>acceleration</th>\n",
       "      <th>year</th>\n",
       "      <th>origin</th>\n",
       "    </tr>\n",
       "  </thead>\n",
       "  <tbody>\n",
       "    <tr>\n",
       "      <th>count</th>\n",
       "      <td>397.000000</td>\n",
       "      <td>397.000000</td>\n",
       "      <td>397.000000</td>\n",
       "      <td>397.000000</td>\n",
       "      <td>397.000000</td>\n",
       "      <td>397.000000</td>\n",
       "      <td>397.000000</td>\n",
       "      <td>397.000000</td>\n",
       "    </tr>\n",
       "    <tr>\n",
       "      <th>mean</th>\n",
       "      <td>198.000000</td>\n",
       "      <td>23.515869</td>\n",
       "      <td>5.458438</td>\n",
       "      <td>193.532746</td>\n",
       "      <td>2970.261965</td>\n",
       "      <td>15.555668</td>\n",
       "      <td>75.994962</td>\n",
       "      <td>1.574307</td>\n",
       "    </tr>\n",
       "    <tr>\n",
       "      <th>std</th>\n",
       "      <td>114.748275</td>\n",
       "      <td>7.825804</td>\n",
       "      <td>1.701577</td>\n",
       "      <td>104.379583</td>\n",
       "      <td>847.904119</td>\n",
       "      <td>2.749995</td>\n",
       "      <td>3.690005</td>\n",
       "      <td>0.802549</td>\n",
       "    </tr>\n",
       "    <tr>\n",
       "      <th>min</th>\n",
       "      <td>0.000000</td>\n",
       "      <td>9.000000</td>\n",
       "      <td>3.000000</td>\n",
       "      <td>68.000000</td>\n",
       "      <td>1613.000000</td>\n",
       "      <td>8.000000</td>\n",
       "      <td>70.000000</td>\n",
       "      <td>1.000000</td>\n",
       "    </tr>\n",
       "    <tr>\n",
       "      <th>25%</th>\n",
       "      <td>99.000000</td>\n",
       "      <td>17.500000</td>\n",
       "      <td>4.000000</td>\n",
       "      <td>104.000000</td>\n",
       "      <td>2223.000000</td>\n",
       "      <td>13.800000</td>\n",
       "      <td>73.000000</td>\n",
       "      <td>1.000000</td>\n",
       "    </tr>\n",
       "    <tr>\n",
       "      <th>50%</th>\n",
       "      <td>198.000000</td>\n",
       "      <td>23.000000</td>\n",
       "      <td>4.000000</td>\n",
       "      <td>146.000000</td>\n",
       "      <td>2800.000000</td>\n",
       "      <td>15.500000</td>\n",
       "      <td>76.000000</td>\n",
       "      <td>1.000000</td>\n",
       "    </tr>\n",
       "    <tr>\n",
       "      <th>75%</th>\n",
       "      <td>297.000000</td>\n",
       "      <td>29.000000</td>\n",
       "      <td>8.000000</td>\n",
       "      <td>262.000000</td>\n",
       "      <td>3609.000000</td>\n",
       "      <td>17.100000</td>\n",
       "      <td>79.000000</td>\n",
       "      <td>2.000000</td>\n",
       "    </tr>\n",
       "    <tr>\n",
       "      <th>max</th>\n",
       "      <td>396.000000</td>\n",
       "      <td>46.600000</td>\n",
       "      <td>8.000000</td>\n",
       "      <td>455.000000</td>\n",
       "      <td>5140.000000</td>\n",
       "      <td>24.800000</td>\n",
       "      <td>82.000000</td>\n",
       "      <td>3.000000</td>\n",
       "    </tr>\n",
       "  </tbody>\n",
       "</table>\n",
       "</div>"
      ],
      "text/plain": [
       "       Unnamed: 0         mpg   cylinders  displacement       weight  \\\n",
       "count  397.000000  397.000000  397.000000    397.000000   397.000000   \n",
       "mean   198.000000   23.515869    5.458438    193.532746  2970.261965   \n",
       "std    114.748275    7.825804    1.701577    104.379583   847.904119   \n",
       "min      0.000000    9.000000    3.000000     68.000000  1613.000000   \n",
       "25%     99.000000   17.500000    4.000000    104.000000  2223.000000   \n",
       "50%    198.000000   23.000000    4.000000    146.000000  2800.000000   \n",
       "75%    297.000000   29.000000    8.000000    262.000000  3609.000000   \n",
       "max    396.000000   46.600000    8.000000    455.000000  5140.000000   \n",
       "\n",
       "       acceleration        year      origin  \n",
       "count    397.000000  397.000000  397.000000  \n",
       "mean      15.555668   75.994962    1.574307  \n",
       "std        2.749995    3.690005    0.802549  \n",
       "min        8.000000   70.000000    1.000000  \n",
       "25%       13.800000   73.000000    1.000000  \n",
       "50%       15.500000   76.000000    1.000000  \n",
       "75%       17.100000   79.000000    2.000000  \n",
       "max       24.800000   82.000000    3.000000  "
      ]
     },
     "execution_count": 128,
     "metadata": {},
     "output_type": "execute_result"
    }
   ],
   "source": [
    "cars.describe()"
   ]
  },
  {
   "cell_type": "code",
   "execution_count": 129,
   "metadata": {},
   "outputs": [],
   "source": [
    "# avg_mpg = cars.groupby('cylinders').mean()['mpg']\n",
    "# avg_mpg"
   ]
  },
  {
   "cell_type": "code",
   "execution_count": 130,
   "metadata": {},
   "outputs": [],
   "source": [
    "# cyl=sorted(cars['cylinders'].unique())\n",
    "# cyl"
   ]
  },
  {
   "cell_type": "code",
   "execution_count": 131,
   "metadata": {},
   "outputs": [],
   "source": [
    "# fig, ax = plt.subplots(figsize=(6,5))  # make one subplot (ax) on the figure\n",
    "# ax.bar(cyl,avg_mpg)\n",
    "# plt.show()"
   ]
  },
  {
   "cell_type": "code",
   "execution_count": 132,
   "metadata": {},
   "outputs": [],
   "source": [
    "# cyl4=cars[cars['cylinders']==4]['mpg']\n",
    "# cyl5=cars[cars['cylinders']==5]['mpg']\n",
    "# cyl6=cars[cars['cylinders']==6]['mpg']\n",
    "# cyl8=cars[cars['cylinders']==8]['mpg']\n",
    "# fig, ax = plt.subplots(figsize=(6,5))  # make one subplot (ax) on the figure\n",
    "# ax.boxplot([cyl4,cyl5,cyl6,cyl8])\n",
    "# plt.show()"
   ]
  },
  {
   "cell_type": "code",
   "execution_count": 133,
   "metadata": {},
   "outputs": [],
   "source": [
    "# fig, ax = plt.subplots(figsize=(6,5))  # make one subplot (ax) on the figure\n",
    "# ax.scatter(cars['weight'], cars['mpg'])\n",
    "# plt.show()"
   ]
  },
  {
   "cell_type": "code",
   "execution_count": 134,
   "metadata": {},
   "outputs": [],
   "source": [
    "# fig, ax = plt.subplots(figsize=(6,5))  # make one subplot (ax) on the figure\n",
    "# ax.scatter(cars['ENG'],cars['mpg'])\n",
    "# plt.show()"
   ]
  },
  {
   "cell_type": "code",
   "execution_count": 135,
   "metadata": {},
   "outputs": [],
   "source": [
    "# fig, ax = plt.subplots(figsize=(6,5))  # make one subplot (ax) on the figure\n",
    "# ax.scatter(cars['ENG'],cars['weight'])\n",
    "# plt.show()"
   ]
  },
  {
   "cell_type": "markdown",
   "metadata": {},
   "source": [
    "Color maps map values in 0..1 to colors along a spectrum identified by the colormap. That means we need to convert values in the range of our data to 0..1, and the library provides a normalization function for this. Here is how we convert the MPG column to colors:"
   ]
  },
  {
   "cell_type": "code",
   "execution_count": 136,
   "metadata": {},
   "outputs": [],
   "source": [
    "# # map higher values of mpg to redder colors\n",
    "# from matplotlib import colors \n",
    "# cmap = plt.get_cmap('coolwarm')\n",
    "# norm = colors.Normalize(cars['mpg'].min(), cars['mpg'].max()) \n",
    "# normed = norm(cars['mpg'])\n",
    "# ycolors = cmap(normed)"
   ]
  },
  {
   "cell_type": "code",
   "execution_count": 137,
   "metadata": {},
   "outputs": [],
   "source": [
    "# fig, ax = plt.subplots(figsize=(6,5))\n",
    "# # Get a value between 0 and 1 for each Y value as a color along a spectrum\n",
    "# crange = np.linspace(0,1,num=len(cars))\n",
    "\n",
    "# ax.scatter(cars['WGT'], cars['MPG'], c=ycolors, s=20, alpha=.4)\n",
    "# ax.set_xlabel(\"Weight\")\n",
    "# ax.set_ylabel(\"MPG\")\n",
    "# plt.show()"
   ]
  },
  {
   "cell_type": "code",
   "execution_count": null,
   "metadata": {},
   "outputs": [],
   "source": []
  },
  {
   "cell_type": "markdown",
   "metadata": {},
   "source": [
    "<b>Exercises</b>\n",
    "\n",
    "1. Compare the value of the 97th percentile in the standard normal distribution to the corresponding 97th percentile in the $t$-distribution for various values of the sample size and df. At what sample size do the values become nearly indentical? \n",
    "2. Use the bootstrap to give a 95% confidence interval for the *median* internal body temperatures of the F group.\n",
    "3. Is there evidence that the average heart rates differ between the two groups? (Heart Rate was the other column in the ```temp``` data frame.) Find a 95% confidence interval for the true difference of the mean heart rates.\n",
    "4. What is the result of testing the hypothesis that the mean body temps of men and women are equal at the $\\alpha=0.01$ level of significance? \n",
    "5. Now use the code above to bootstrap a 99% confidence interval for the difference in the means. Does the result align with your answer in 4?\n",
    "6. Does the temperature data for SF and Raleigh provide evidence that the true mean annual temperatures of the two cities differs? "
   ]
  },
  {
   "cell_type": "markdown",
   "metadata": {},
   "source": [
    "<b>Question #1</b>\n",
    "\n",
    "Compare the value of the 97th percentile in the standard normal distribution to the corresponding 97th percentile in the $t$-distribution for various values of the sample size and df. At what sample size do the values become nearly indentical? \n",
    "\n",
    "<b>OR:</b>\n",
    "Compare the value of the 97th percentile in the standard normal distribution to the corresponding 97th percentile in the t-distribution for various values of the df. At what value of df do the values become nearly identical?"
   ]
  },
  {
   "cell_type": "code",
   "execution_count": 138,
   "metadata": {},
   "outputs": [],
   "source": [
    "from scipy.stats import t"
   ]
  },
  {
   "cell_type": "code",
   "execution_count": 139,
   "metadata": {},
   "outputs": [
    {
     "data": {
      "text/plain": [
       "1.8807936081512509"
      ]
     },
     "execution_count": 139,
     "metadata": {},
     "output_type": "execute_result"
    }
   ],
   "source": [
    "# Interval of normal distribution in the 97th percentile. \n",
    "# ppf - probability density function of normal distribution\n",
    "scipy.stats.norm.ppf(0.97)"
   ]
  },
  {
   "cell_type": "code",
   "execution_count": 140,
   "metadata": {},
   "outputs": [
    {
     "data": {
      "text/plain": [
       "1.8808362785283528"
      ]
     },
     "execution_count": 140,
     "metadata": {},
     "output_type": "execute_result"
    }
   ],
   "source": [
    "# Now find p-value for degrees of freedom where the percentile is closest to z-value. \n",
    "t.ppf(0.97,50000)"
   ]
  },
  {
   "cell_type": "markdown",
   "metadata": {},
   "source": [
    "About df=50000 would be required in order for the t-distribution to match the normal distribution of the 97th percentile."
   ]
  },
  {
   "cell_type": "code",
   "execution_count": null,
   "metadata": {},
   "outputs": [],
   "source": []
  },
  {
   "cell_type": "markdown",
   "metadata": {},
   "source": [
    "<b>Question #2</b>\n",
    "\n",
    "Use the bootstrap to give a 95% confidence interval for the *median* internal body temperatures of the F group."
   ]
  },
  {
   "cell_type": "code",
   "execution_count": 141,
   "metadata": {},
   "outputs": [
    {
     "data": {
      "text/html": [
       "<div>\n",
       "<style scoped>\n",
       "    .dataframe tbody tr th:only-of-type {\n",
       "        vertical-align: middle;\n",
       "    }\n",
       "\n",
       "    .dataframe tbody tr th {\n",
       "        vertical-align: top;\n",
       "    }\n",
       "\n",
       "    .dataframe thead th {\n",
       "        text-align: right;\n",
       "    }\n",
       "</style>\n",
       "<table border=\"1\" class=\"dataframe\">\n",
       "  <thead>\n",
       "    <tr style=\"text-align: right;\">\n",
       "      <th></th>\n",
       "      <th>temp</th>\n",
       "      <th>gender</th>\n",
       "      <th>hr</th>\n",
       "    </tr>\n",
       "  </thead>\n",
       "  <tbody>\n",
       "    <tr>\n",
       "      <th>65</th>\n",
       "      <td>96.4</td>\n",
       "      <td>2</td>\n",
       "      <td>69</td>\n",
       "    </tr>\n",
       "    <tr>\n",
       "      <th>66</th>\n",
       "      <td>96.7</td>\n",
       "      <td>2</td>\n",
       "      <td>62</td>\n",
       "    </tr>\n",
       "    <tr>\n",
       "      <th>67</th>\n",
       "      <td>96.8</td>\n",
       "      <td>2</td>\n",
       "      <td>75</td>\n",
       "    </tr>\n",
       "    <tr>\n",
       "      <th>68</th>\n",
       "      <td>97.2</td>\n",
       "      <td>2</td>\n",
       "      <td>66</td>\n",
       "    </tr>\n",
       "    <tr>\n",
       "      <th>69</th>\n",
       "      <td>97.2</td>\n",
       "      <td>2</td>\n",
       "      <td>68</td>\n",
       "    </tr>\n",
       "    <tr>\n",
       "      <th>...</th>\n",
       "      <td>...</td>\n",
       "      <td>...</td>\n",
       "      <td>...</td>\n",
       "    </tr>\n",
       "    <tr>\n",
       "      <th>125</th>\n",
       "      <td>99.3</td>\n",
       "      <td>2</td>\n",
       "      <td>68</td>\n",
       "    </tr>\n",
       "    <tr>\n",
       "      <th>126</th>\n",
       "      <td>99.4</td>\n",
       "      <td>2</td>\n",
       "      <td>77</td>\n",
       "    </tr>\n",
       "    <tr>\n",
       "      <th>127</th>\n",
       "      <td>99.9</td>\n",
       "      <td>2</td>\n",
       "      <td>79</td>\n",
       "    </tr>\n",
       "    <tr>\n",
       "      <th>128</th>\n",
       "      <td>100.0</td>\n",
       "      <td>2</td>\n",
       "      <td>78</td>\n",
       "    </tr>\n",
       "    <tr>\n",
       "      <th>129</th>\n",
       "      <td>100.8</td>\n",
       "      <td>2</td>\n",
       "      <td>77</td>\n",
       "    </tr>\n",
       "  </tbody>\n",
       "</table>\n",
       "<p>65 rows × 3 columns</p>\n",
       "</div>"
      ],
      "text/plain": [
       "      temp  gender  hr\n",
       "65    96.4       2  69\n",
       "66    96.7       2  62\n",
       "67    96.8       2  75\n",
       "68    97.2       2  66\n",
       "69    97.2       2  68\n",
       "..     ...     ...  ..\n",
       "125   99.3       2  68\n",
       "126   99.4       2  77\n",
       "127   99.9       2  79\n",
       "128  100.0       2  78\n",
       "129  100.8       2  77\n",
       "\n",
       "[65 rows x 3 columns]"
      ]
     },
     "execution_count": 141,
     "metadata": {},
     "output_type": "execute_result"
    }
   ],
   "source": [
    "# tempF contains all data from temperature from females in sample\n",
    "tempF"
   ]
  },
  {
   "cell_type": "code",
   "execution_count": 142,
   "metadata": {},
   "outputs": [
    {
     "data": {
      "text/plain": [
       "98.39384615384616"
      ]
     },
     "execution_count": 142,
     "metadata": {},
     "output_type": "execute_result"
    }
   ],
   "source": [
    "# mean body temperature of F group\n",
    "tempF.temp.mean()"
   ]
  },
  {
   "cell_type": "code",
   "execution_count": 143,
   "metadata": {},
   "outputs": [
    {
     "data": {
      "text/plain": [
       "74.15384615384616"
      ]
     },
     "execution_count": 143,
     "metadata": {},
     "output_type": "execute_result"
    }
   ],
   "source": [
    "# Mean heart rate (hr) of F group\n",
    "tempF.hr.mean()"
   ]
  },
  {
   "cell_type": "code",
   "execution_count": 144,
   "metadata": {},
   "outputs": [
    {
     "data": {
      "text/plain": [
       "98.4"
      ]
     },
     "execution_count": 144,
     "metadata": {},
     "output_type": "execute_result"
    }
   ],
   "source": [
    "# Median of group F body temperatures\n",
    "tempF.temp.median()"
   ]
  },
  {
   "cell_type": "code",
   "execution_count": 148,
   "metadata": {},
   "outputs": [
    {
     "data": {
      "text/plain": [
       "76.0"
      ]
     },
     "execution_count": 148,
     "metadata": {},
     "output_type": "execute_result"
    }
   ],
   "source": [
    "# Median of group F hr (lines 98,99,100: hr are 81,73,74, respectively, then take mean of 3)\n",
    "tempF.hr.median()"
   ]
  },
  {
   "cell_type": "code",
   "execution_count": 149,
   "metadata": {},
   "outputs": [
    {
     "data": {
      "text/plain": [
       "0.0038461538461334044"
      ]
     },
     "execution_count": 149,
     "metadata": {},
     "output_type": "execute_result"
    }
   ],
   "source": [
    "np.median(np.array(boot))"
   ]
  },
  {
   "cell_type": "code",
   "execution_count": 150,
   "metadata": {},
   "outputs": [],
   "source": [
    "med_diff = tempF.temp.median() - tempF.temp.mean()"
   ]
  },
  {
   "cell_type": "code",
   "execution_count": 151,
   "metadata": {},
   "outputs": [
    {
     "name": "stdout",
     "output_type": "stream",
     "text": [
      "95 pct CI: ( -0.197 0.206 )\n"
     ]
    }
   ],
   "source": [
    "# Find a low and high for the 95% confidence interval of median body temps, group F\n",
    "# Take into account the three heart rates' mean tied to the 98.4 median temperature\n",
    "low=np.round(np.percentile(np.array(boot),2.5),3)\n",
    "high=np.round(np.percentile(np.array(boot),97.5),3)\n",
    "print(\"95 pct CI:\",\"(\",low,high,\")\")"
   ]
  },
  {
   "cell_type": "code",
   "execution_count": 152,
   "metadata": {},
   "outputs": [
    {
     "name": "stdout",
     "output_type": "stream",
     "text": [
      "-0.1998461538461496 0.2031538461538504\n"
     ]
    }
   ],
   "source": [
    "# Return the CI with respect to the median group F body temp\n",
    "print(med_diff-high, med_diff-low)"
   ]
  },
  {
   "cell_type": "code",
   "execution_count": null,
   "metadata": {},
   "outputs": [],
   "source": []
  },
  {
   "cell_type": "markdown",
   "metadata": {},
   "source": [
    "<b>Question #3</b>\n",
    "\n",
    "Is there evidence that the average heart rates differ between the two groups? (Heart Rate was the other column in the temp data frame.) Find a 95% confidence interval for the true difference of the mean heart rates."
   ]
  },
  {
   "cell_type": "code",
   "execution_count": 153,
   "metadata": {},
   "outputs": [],
   "source": [
    "tempM=temp[temp['gender']==1]\n",
    "tempF=temp[temp['gender']==2]"
   ]
  },
  {
   "cell_type": "code",
   "execution_count": 155,
   "metadata": {},
   "outputs": [
    {
     "name": "stdout",
     "output_type": "stream",
     "text": [
      "M mean hr: 73.36923076923077 \n",
      "F mean hr: 74.15384615384616\n"
     ]
    }
   ],
   "source": [
    "# Return mean heart rates for group M (males) and group F (females)\n",
    "# Total: 130 in sample taken - 65 male and 65 female\n",
    "print(\"M mean hr:\", tempM.hr.mean(), \"\\nF mean hr:\", tempF.hr.mean())"
   ]
  },
  {
   "cell_type": "code",
   "execution_count": 156,
   "metadata": {},
   "outputs": [
    {
     "name": "stdout",
     "output_type": "stream",
     "text": [
      "Pre-CI hr difference: 0.7846153846153925 \n",
      "Standard Deviation of Diff: 2.23004329902584\n"
     ]
    }
   ],
   "source": [
    "# General difference: mean hr of group F is greater in BPM prior to 95% CI implemented\n",
    "hrdiff = tempF.hr.mean()-tempM.hr.mean()\n",
    "hrstd = tempF.hr.std()-tempM.hr.std()\n",
    "print(\"Pre-CI hr difference:\", hrdiff, \n",
    "      \"\\nStandard Deviation of Diff:\", hrstd)"
   ]
  },
  {
   "cell_type": "code",
   "execution_count": 157,
   "metadata": {},
   "outputs": [
    {
     "name": "stdout",
     "output_type": "stream",
     "text": [
      "0.40126342228813927 1.1679673469426457\n"
     ]
    }
   ],
   "source": [
    "# z = 1.96, n = 130\n",
    "# Return true difference of mean heart rates with respect to z-score\n",
    "lowhr = hrdiff - 1.96*(hrstd/math.sqrt(130))\n",
    "hihr = hrdiff + 1.96*(hrstd/math.sqrt(130))\n",
    "print(lowhr, hihr)"
   ]
  },
  {
   "cell_type": "markdown",
   "metadata": {},
   "source": [
    "Yes, there is some evidence on this sample that the average heart rate differs between both M and F groups. Based on the difference pre-confidence interval calculations, group F's mean heart rate was approximately 0.785 beats per minute more than group M's heart rate. If there was a null hypothesis $H_0$ where there was no difference in heart rate (or difference was 0), then we would reject $H_0$ where group F's heart rate is more than that of group M's. "
   ]
  },
  {
   "cell_type": "code",
   "execution_count": null,
   "metadata": {},
   "outputs": [],
   "source": []
  },
  {
   "cell_type": "markdown",
   "metadata": {},
   "source": [
    "<b>Question #4</b>\n",
    "\n",
    "What is the result of testing the hypothesis that the mean body temps of men and women are equal at the a=0.01 level of significance? "
   ]
  },
  {
   "cell_type": "code",
   "execution_count": 158,
   "metadata": {},
   "outputs": [
    {
     "data": {
      "text/plain": [
       "0.5"
      ]
     },
     "execution_count": 158,
     "metadata": {},
     "output_type": "execute_result"
    }
   ],
   "source": [
    "scipy.stats.norm(0,1).cdf(0)"
   ]
  },
  {
   "cell_type": "code",
   "execution_count": 159,
   "metadata": {},
   "outputs": [
    {
     "name": "stdout",
     "output_type": "stream",
     "text": [
      "0.6826894921370859 -- 0.9544997361036416 -- 0.9973002039367398\n"
     ]
    }
   ],
   "source": [
    "print(z(1)-z(-1),\"--\",z(2)-z(-2),\"--\",z(3)-z(-3))"
   ]
  },
  {
   "cell_type": "code",
   "execution_count": 160,
   "metadata": {},
   "outputs": [
    {
     "name": "stdout",
     "output_type": "stream",
     "text": [
      "98.1046153846154 98.39384615384616 98.24923076923076 \n",
      "diff m from f: -0.2892307692307554 \n",
      "diff from m to mean: 0.1446153846153635 \n",
      "diff from mean to f: 0.14461538461539192\n"
     ]
    }
   ],
   "source": [
    "# Means of M, F groups' body temperatures, respectively\n",
    "mmean = m.mean()\n",
    "wmean = w.mean()\n",
    "bothmean = temp.temp.mean()\n",
    "print(mmean,wmean,bothmean, \"\\ndiff m from f:\",mmean-wmean,\n",
    "     \"\\ndiff from m to mean:\", bothmean - mmean,\n",
    "        \"\\ndiff from mean to f:\", wmean - bothmean)"
   ]
  },
  {
   "cell_type": "code",
   "execution_count": 161,
   "metadata": {},
   "outputs": [
    {
     "data": {
      "text/plain": [
       "-2.2854345381654997"
      ]
     },
     "execution_count": 161,
     "metadata": {},
     "output_type": "execute_result"
    }
   ],
   "source": [
    "# Calculate z-score with respect to both groups\n",
    "z_val= (mmean-wmean)/np.sqrt((tempM.temp.std()**2/65) + (tempF.temp.std()**2/65))\n",
    "z_val"
   ]
  },
  {
   "cell_type": "code",
   "execution_count": 162,
   "metadata": {},
   "outputs": [
    {
     "data": {
      "text/plain": [
       "0.988856319619668"
      ]
     },
     "execution_count": 162,
     "metadata": {},
     "output_type": "execute_result"
    }
   ],
   "source": [
    "# Plug into z-function provided earlier in file to determine probability to check hypothesis\n",
    "1 - z(z_val)"
   ]
  },
  {
   "cell_type": "markdown",
   "metadata": {},
   "source": [
    "The 99% confidence interval (when $\\alpha = 0.01$) should be if $z=2.576$"
   ]
  },
  {
   "cell_type": "code",
   "execution_count": 163,
   "metadata": {},
   "outputs": [
    {
     "data": {
      "text/plain": [
       "0.995002467684265"
      ]
     },
     "execution_count": 163,
     "metadata": {},
     "output_type": "execute_result"
    }
   ],
   "source": [
    "z(2.576)"
   ]
  },
  {
   "cell_type": "markdown",
   "metadata": {},
   "source": [
    "Since $1 - z(z_{val}) \\neq z(2.576)$, we reject the hypothesis $H_0$ that the mean body temeperatures of men and women are equal at the $\\alpha=0.01$ level of significance. The male mean body temperature is less than the female mean body temperature, which would be the alternative hypothesis $H_a$."
   ]
  },
  {
   "cell_type": "code",
   "execution_count": null,
   "metadata": {},
   "outputs": [],
   "source": []
  },
  {
   "cell_type": "markdown",
   "metadata": {},
   "source": [
    "<b>Question #5</b>\n",
    "\n",
    "Now use the code above to bootstrap a $99\\%$ confidence interval for the difference in the means. Does the result align with your answer in 4?"
   ]
  },
  {
   "cell_type": "code",
   "execution_count": 164,
   "metadata": {},
   "outputs": [
    {
     "name": "stdout",
     "output_type": "stream",
     "text": [
      "99 pct CI: ( -0.3062 , -0.2383 )\n"
     ]
    }
   ],
   "source": [
    "# Create a low and high variable using bootstrap with value of df = 64\n",
    "\n",
    "low_diff = np.round(np.percentile(np.array(boot), 0.005), 4)\n",
    "hi_diff = np.round(np.percentile(np.array(boot), 0.995), 4)\n",
    "\n",
    "print(\"99 pct CI:\", \"(\",low_diff,\",\",hi_diff,\")\")"
   ]
  },
  {
   "cell_type": "markdown",
   "metadata": {},
   "source": [
    "Yes, the results here align with Question 4 that there is a  difference in mean body temps with the use of a 99% confidence interval. In this case, the male mean body temperature is less than the female mean body temperature, which would be the alternative hypothesis $H_a$. "
   ]
  },
  {
   "cell_type": "code",
   "execution_count": null,
   "metadata": {},
   "outputs": [],
   "source": []
  },
  {
   "cell_type": "markdown",
   "metadata": {},
   "source": [
    "<b>Question #6</b>\n",
    "\n",
    "Does the temperature data for SF and Raleigh provide evidence that the true mean annual temperatures of the two cities differs?"
   ]
  },
  {
   "cell_type": "code",
   "execution_count": 168,
   "metadata": {},
   "outputs": [
    {
     "data": {
      "text/plain": [
       "<bound method DataFrame.all of    Month  San Francisco  Raleigh\n",
       "0    Jan             49       39\n",
       "1    Feb             52       42\n",
       "2    Mar             53       50\n",
       "3    Apr             56       59\n",
       "4    May             58       67\n",
       "5    Jun             62       74\n",
       "6    Jul             63       78\n",
       "7    Aug             64       77\n",
       "8    Sep             65       71\n",
       "9    Oct             61       60\n",
       "10   Nov             55       51\n",
       "11   Dec             49       43>"
      ]
     },
     "execution_count": 168,
     "metadata": {},
     "output_type": "execute_result"
    }
   ],
   "source": [
    "sf.all"
   ]
  },
  {
   "cell_type": "code",
   "execution_count": 169,
   "metadata": {},
   "outputs": [
    {
     "data": {
      "text/html": [
       "<div>\n",
       "<style scoped>\n",
       "    .dataframe tbody tr th:only-of-type {\n",
       "        vertical-align: middle;\n",
       "    }\n",
       "\n",
       "    .dataframe tbody tr th {\n",
       "        vertical-align: top;\n",
       "    }\n",
       "\n",
       "    .dataframe thead th {\n",
       "        text-align: right;\n",
       "    }\n",
       "</style>\n",
       "<table border=\"1\" class=\"dataframe\">\n",
       "  <thead>\n",
       "    <tr style=\"text-align: right;\">\n",
       "      <th></th>\n",
       "      <th>Month</th>\n",
       "      <th>San Francisco</th>\n",
       "      <th>Raleigh</th>\n",
       "    </tr>\n",
       "  </thead>\n",
       "  <tbody>\n",
       "    <tr>\n",
       "      <th>0</th>\n",
       "      <td>Jan</td>\n",
       "      <td>49</td>\n",
       "      <td>39</td>\n",
       "    </tr>\n",
       "    <tr>\n",
       "      <th>1</th>\n",
       "      <td>Feb</td>\n",
       "      <td>52</td>\n",
       "      <td>42</td>\n",
       "    </tr>\n",
       "    <tr>\n",
       "      <th>2</th>\n",
       "      <td>Mar</td>\n",
       "      <td>53</td>\n",
       "      <td>50</td>\n",
       "    </tr>\n",
       "    <tr>\n",
       "      <th>3</th>\n",
       "      <td>Apr</td>\n",
       "      <td>56</td>\n",
       "      <td>59</td>\n",
       "    </tr>\n",
       "    <tr>\n",
       "      <th>4</th>\n",
       "      <td>May</td>\n",
       "      <td>58</td>\n",
       "      <td>67</td>\n",
       "    </tr>\n",
       "  </tbody>\n",
       "</table>\n",
       "</div>"
      ],
      "text/plain": [
       "  Month  San Francisco  Raleigh\n",
       "0   Jan             49       39\n",
       "1   Feb             52       42\n",
       "2   Mar             53       50\n",
       "3   Apr             56       59\n",
       "4   May             58       67"
      ]
     },
     "execution_count": 169,
     "metadata": {},
     "output_type": "execute_result"
    }
   ],
   "source": [
    "sf.head()"
   ]
  },
  {
   "cell_type": "code",
   "execution_count": 170,
   "metadata": {},
   "outputs": [
    {
     "data": {
      "text/html": [
       "<div>\n",
       "<style scoped>\n",
       "    .dataframe tbody tr th:only-of-type {\n",
       "        vertical-align: middle;\n",
       "    }\n",
       "\n",
       "    .dataframe tbody tr th {\n",
       "        vertical-align: top;\n",
       "    }\n",
       "\n",
       "    .dataframe thead th {\n",
       "        text-align: right;\n",
       "    }\n",
       "</style>\n",
       "<table border=\"1\" class=\"dataframe\">\n",
       "  <thead>\n",
       "    <tr style=\"text-align: right;\">\n",
       "      <th></th>\n",
       "      <th>Month</th>\n",
       "      <th>San Francisco</th>\n",
       "      <th>Raleigh</th>\n",
       "    </tr>\n",
       "  </thead>\n",
       "  <tbody>\n",
       "    <tr>\n",
       "      <th>7</th>\n",
       "      <td>Aug</td>\n",
       "      <td>64</td>\n",
       "      <td>77</td>\n",
       "    </tr>\n",
       "    <tr>\n",
       "      <th>8</th>\n",
       "      <td>Sep</td>\n",
       "      <td>65</td>\n",
       "      <td>71</td>\n",
       "    </tr>\n",
       "    <tr>\n",
       "      <th>9</th>\n",
       "      <td>Oct</td>\n",
       "      <td>61</td>\n",
       "      <td>60</td>\n",
       "    </tr>\n",
       "    <tr>\n",
       "      <th>10</th>\n",
       "      <td>Nov</td>\n",
       "      <td>55</td>\n",
       "      <td>51</td>\n",
       "    </tr>\n",
       "    <tr>\n",
       "      <th>11</th>\n",
       "      <td>Dec</td>\n",
       "      <td>49</td>\n",
       "      <td>43</td>\n",
       "    </tr>\n",
       "  </tbody>\n",
       "</table>\n",
       "</div>"
      ],
      "text/plain": [
       "   Month  San Francisco  Raleigh\n",
       "7    Aug             64       77\n",
       "8    Sep             65       71\n",
       "9    Oct             61       60\n",
       "10   Nov             55       51\n",
       "11   Dec             49       43"
      ]
     },
     "execution_count": 170,
     "metadata": {},
     "output_type": "execute_result"
    }
   ],
   "source": [
    "sf.tail()"
   ]
  },
  {
   "cell_type": "code",
   "execution_count": 173,
   "metadata": {},
   "outputs": [
    {
     "data": {
      "text/plain": [
       "San Francisco    57.25\n",
       "Raleigh          59.25\n",
       "dtype: float64"
      ]
     },
     "execution_count": 173,
     "metadata": {},
     "output_type": "execute_result"
    }
   ],
   "source": [
    "sf.mean()"
   ]
  },
  {
   "cell_type": "code",
   "execution_count": 176,
   "metadata": {},
   "outputs": [
    {
     "data": {
      "text/plain": [
       "2.0"
      ]
     },
     "execution_count": 176,
     "metadata": {},
     "output_type": "execute_result"
    }
   ],
   "source": [
    "# Difference of mean temps of SF/Raleigh show that Raleigh is 2 degrees warmer per year\n",
    "diff = sf[\"Raleigh\"].mean() - sf[\"San Francisco\"].mean()\n",
    "diff"
   ]
  },
  {
   "cell_type": "code",
   "execution_count": null,
   "metadata": {},
   "outputs": [],
   "source": []
  },
  {
   "cell_type": "markdown",
   "metadata": {},
   "source": [
    "Yes, the temperature data for SF and Raleigh show that the true mean annual temperature of the two cities differs."
   ]
  },
  {
   "cell_type": "code",
   "execution_count": null,
   "metadata": {},
   "outputs": [],
   "source": []
  }
 ],
 "metadata": {
  "kernelspec": {
   "display_name": "Python 3",
   "language": "python",
   "name": "python3"
  },
  "language_info": {
   "codemirror_mode": {
    "name": "ipython",
    "version": 3
   },
   "file_extension": ".py",
   "mimetype": "text/x-python",
   "name": "python",
   "nbconvert_exporter": "python",
   "pygments_lexer": "ipython3",
   "version": "3.8.3"
  }
 },
 "nbformat": 4,
 "nbformat_minor": 4
}
