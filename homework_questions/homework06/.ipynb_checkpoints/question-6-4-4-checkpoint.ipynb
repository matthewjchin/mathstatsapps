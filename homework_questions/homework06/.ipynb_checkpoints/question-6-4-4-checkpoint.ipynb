{
 "cells": [
  {
   "cell_type": "code",
   "execution_count": 2,
   "metadata": {},
   "outputs": [],
   "source": [
    "import numpy as np\n",
    "import math"
   ]
  },
  {
   "cell_type": "code",
   "execution_count": 3,
   "metadata": {},
   "outputs": [],
   "source": [
    "# array of isotopes, n=98\n",
    "rad_per = np.array(\n",
    "        [58, 50, 57, 58, 64, 63, 54, 64, 59, 41, 43, 56, 60, 50,\n",
    "           46, 59, 54, 60, 59, 60, 67, 52, 65, 63, 55, 61, 68, 58,\n",
    "           63, 36, 42, 54, 58, 54, 40, 60, 64, 56, 61, 51, 48, 50,\n",
    "           60, 42, 62, 67, 58, 49, 66, 58, 57, 59, 52, 54, 53, 53,\n",
    "           57, 43, 73, 65, 45, 43, 57, 55, 73, 62, 68, 55, 51, 55,\n",
    "           53, 68, 58, 53, 51, 73, 44, 50, 53, 62, 58, 47, 63, 59,\n",
    "           59, 56, 60, 59, 50, 52, 62, 51, 66, 51, 56, 53, 59, 57])"
   ]
  },
  {
   "cell_type": "code",
   "execution_count": 4,
   "metadata": {},
   "outputs": [],
   "source": [
    "n = len(rad_per)"
   ]
  },
  {
   "cell_type": "code",
   "execution_count": 5,
   "metadata": {},
   "outputs": [],
   "source": [
    "# find x-bar or the mean, followed by standard deviation of sample n\n",
    "xbar = rad_per.mean()"
   ]
  },
  {
   "cell_type": "code",
   "execution_count": 6,
   "metadata": {},
   "outputs": [
    {
     "name": "stdout",
     "output_type": "stream",
     "text": [
      "Mean of n: 56.285714285714285 \n",
      " SD of n: 7.502380574571933\n"
     ]
    }
   ],
   "source": [
    "# sd for sample n is square root of xbar\n",
    "print(\"Mean of n:\",xbar,\"\\n\",\n",
    "    \"SD of n:\",math.sqrt(xbar))"
   ]
  },
  {
   "cell_type": "code",
   "execution_count": 7,
   "metadata": {},
   "outputs": [
    {
     "data": {
      "text/plain": [
       "5516"
      ]
     },
     "execution_count": 7,
     "metadata": {},
     "output_type": "execute_result"
    }
   ],
   "source": [
    "rad_per.sum()"
   ]
  },
  {
   "cell_type": "code",
   "execution_count": null,
   "metadata": {},
   "outputs": [],
   "source": []
  }
 ],
 "metadata": {
  "kernelspec": {
   "display_name": "Python 3",
   "language": "python",
   "name": "python3"
  },
  "language_info": {
   "codemirror_mode": {
    "name": "ipython",
    "version": 3
   },
   "file_extension": ".py",
   "mimetype": "text/x-python",
   "name": "python",
   "nbconvert_exporter": "python",
   "pygments_lexer": "ipython3",
   "version": "3.8.3"
  }
 },
 "nbformat": 4,
 "nbformat_minor": 4
}
