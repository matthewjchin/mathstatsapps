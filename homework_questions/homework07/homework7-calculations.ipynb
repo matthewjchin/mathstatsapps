{
 "cells": [
  {
   "cell_type": "code",
   "execution_count": 18,
   "metadata": {},
   "outputs": [],
   "source": [
    "import numpy as np\n",
    "import math"
   ]
  },
  {
   "cell_type": "code",
   "execution_count": 19,
   "metadata": {},
   "outputs": [],
   "source": [
    "# 8.1.6\n",
    "air_l = np.array(\n",
    "        [3.4, 3.6, 3.8, 3.3, 3.4, 3.5, 3.7, 3.6, 3.7])"
   ]
  },
  {
   "cell_type": "code",
   "execution_count": 20,
   "metadata": {},
   "outputs": [
    {
     "name": "stdout",
     "output_type": "stream",
     "text": [
      "9\n"
     ]
    }
   ],
   "source": [
    "n = len(air_l)\n",
    "print(n)"
   ]
  },
  {
   "cell_type": "code",
   "execution_count": 21,
   "metadata": {},
   "outputs": [],
   "source": [
    "# find x-bar or the mean, followed by standard deviation of sample n\n",
    "xbar = air_l.mean()"
   ]
  },
  {
   "cell_type": "code",
   "execution_count": 22,
   "metadata": {},
   "outputs": [
    {
     "name": "stdout",
     "output_type": "stream",
     "text": [
      "Mean of n: 3.5555555555555554 \n",
      " SD of n: 0.1666666666666667\n"
     ]
    }
   ],
   "source": [
    "# sd for sample n is square root of xbar\n",
    "print(\"Mean of n:\",xbar,\"\\n\",\n",
    "    \"SD of n:\",air_l.std(ddof=1))"
   ]
  },
  {
   "cell_type": "code",
   "execution_count": 23,
   "metadata": {},
   "outputs": [
    {
     "data": {
      "text/plain": [
       "32.0"
      ]
     },
     "execution_count": 23,
     "metadata": {},
     "output_type": "execute_result"
    }
   ],
   "source": [
    "air_l.sum()"
   ]
  },
  {
   "cell_type": "code",
   "execution_count": 34,
   "metadata": {},
   "outputs": [],
   "source": [
    "# Question 8.1.9\n",
    "growths= np.array(\n",
    "    [\n",
    "        11.5, 11.8, 15.7, 16.1, 14.1, 10.5, 15.2, 19.0, 12.8, 12.4, 19.2,\n",
    "        13.5, 16.5, 13.5, 14.4, 16.7, 10.9, 13.0, 15.1, 17.1, 13.3, 12.4, \n",
    "        8.5, 14.3, 12.9, 11.1, 15.0, 13.3, 15.8, 13.5, 9.3, 12.2, 10.3\n",
    "    ]\n",
    ")"
   ]
  },
  {
   "cell_type": "code",
   "execution_count": 35,
   "metadata": {},
   "outputs": [
    {
     "name": "stdout",
     "output_type": "stream",
     "text": [
      "13.663636363636364\n"
     ]
    }
   ],
   "source": [
    "xbar=growths.mean()\n",
    "print(xbar)"
   ]
  },
  {
   "cell_type": "code",
   "execution_count": 41,
   "metadata": {},
   "outputs": [
    {
     "name": "stdout",
     "output_type": "stream",
     "text": [
      "2.543597130765083\n"
     ]
    }
   ],
   "source": [
    "# Standard deviation is square root of variance\n",
    "stdev=growths.std(ddof=1)\n",
    "print(stdev)"
   ]
  },
  {
   "cell_type": "code",
   "execution_count": 42,
   "metadata": {},
   "outputs": [
    {
     "name": "stdout",
     "output_type": "stream",
     "text": [
      "6.273829201101927\n"
     ]
    }
   ],
   "source": [
    "# Variance\n",
    "var=growths.var()\n",
    "print(var)"
   ]
  },
  {
   "cell_type": "code",
   "execution_count": 43,
   "metadata": {},
   "outputs": [],
   "source": [
    "mu = 15.7"
   ]
  },
  {
   "cell_type": "code",
   "execution_count": 44,
   "metadata": {},
   "outputs": [
    {
     "name": "stdout",
     "output_type": "stream",
     "text": [
      "-4.599006005602887\n"
     ]
    }
   ],
   "source": [
    "tstat = (xbar - mu) / (stdev / math.sqrt(33))\n",
    "print(tstat)"
   ]
  },
  {
   "cell_type": "code",
   "execution_count": 45,
   "metadata": {},
   "outputs": [
    {
     "name": "stdout",
     "output_type": "stream",
     "text": [
      "12.633722114250448 14.69355061302228\n"
     ]
    }
   ],
   "source": [
    "ci1 = xbar - 2.326 * (stdev / math.sqrt(33))\n",
    "ci2 = xbar + 2.326 * (stdev / math.sqrt(33))\n",
    "\n",
    "print(ci1, ci2)"
   ]
  },
  {
   "cell_type": "code",
   "execution_count": 113,
   "metadata": {},
   "outputs": [],
   "source": [
    "# Question 8.2.10\n",
    "normal_air = np.array([\n",
    "    4.67, 4.21, 2.18, 3.91, 4.09, 5.24, 2.94, 4.71, 4.04, 5.79, 3.8, 4.38\n",
    "])\n",
    "\n",
    "enriched_air = np.array([\n",
    "    5.04, 4.52, 6.18, 7.01, 4.36, 1.81, 6.22, 5.7\n",
    "])\n"
   ]
  },
  {
   "cell_type": "code",
   "execution_count": 114,
   "metadata": {},
   "outputs": [
    {
     "data": {
      "text/plain": [
       "12"
      ]
     },
     "execution_count": 114,
     "metadata": {},
     "output_type": "execute_result"
    }
   ],
   "source": [
    "len(normal_air)"
   ]
  },
  {
   "cell_type": "code",
   "execution_count": 115,
   "metadata": {},
   "outputs": [
    {
     "data": {
      "text/plain": [
       "8"
      ]
     },
     "execution_count": 115,
     "metadata": {},
     "output_type": "execute_result"
    }
   ],
   "source": [
    "len(enriched_air)"
   ]
  },
  {
   "cell_type": "code",
   "execution_count": 116,
   "metadata": {},
   "outputs": [
    {
     "name": "stdout",
     "output_type": "stream",
     "text": [
      "Mean x: 4.163333333333333 \n",
      "Mean y: 5.105\n"
     ]
    }
   ],
   "source": [
    "x = normal_air.mean()\n",
    "y = enriched_air.mean()\n",
    "\n",
    "print(\"Mean x:\", x, \"\\nMean y:\", y)"
   ]
  },
  {
   "cell_type": "code",
   "execution_count": 117,
   "metadata": {},
   "outputs": [
    {
     "name": "stdout",
     "output_type": "stream",
     "text": [
      "0.914260606060606 2.5914857142857137\n"
     ]
    }
   ],
   "source": [
    "sx = normal_air.var(ddof=1)\n",
    "sy = enriched_air.var(ddof=1)\n",
    "\n",
    "print(sx, sy)"
   ]
  },
  {
   "cell_type": "code",
   "execution_count": 118,
   "metadata": {},
   "outputs": [
    {
     "name": "stdout",
     "output_type": "stream",
     "text": [
      "4.163333333333333 5.105\n"
     ]
    }
   ],
   "source": [
    "varsumx=0\n",
    "varsumy=0        \n",
    "print(x, y)"
   ]
  },
  {
   "cell_type": "code",
   "execution_count": 119,
   "metadata": {},
   "outputs": [
    {
     "name": "stdout",
     "output_type": "stream",
     "text": [
      "0.914260606060606\n"
     ]
    }
   ],
   "source": [
    "for a in range(len(normal_air)):\n",
    "    varsumx += math.pow((normal_air[a]-x),2)\n",
    "varsumx /= 11\n",
    "# varsumx = math.sqrt(varsumx)\n",
    "print(varsumx)"
   ]
  },
  {
   "cell_type": "code",
   "execution_count": 120,
   "metadata": {},
   "outputs": [
    {
     "name": "stdout",
     "output_type": "stream",
     "text": [
      "2.591485714285714\n"
     ]
    }
   ],
   "source": [
    "for b in range(len(enriched_air)):\n",
    "    varsumy += math.pow((enriched_air[b]-y),2)\n",
    "varsumy /= 7\n",
    "# varsumy = math.sqrt(varsumy)\n",
    "print(varsumy)"
   ]
  },
  {
   "cell_type": "code",
   "execution_count": 121,
   "metadata": {},
   "outputs": [
    {
     "name": "stdout",
     "output_type": "stream",
     "text": [
      "1.251604895649907\n"
     ]
    }
   ],
   "source": [
    "sp = math.sqrt((11*varsumx + 7*varsumy)/(18))\n",
    "print(sp)"
   ]
  },
  {
   "cell_type": "code",
   "execution_count": 122,
   "metadata": {},
   "outputs": [
    {
     "name": "stdout",
     "output_type": "stream",
     "text": [
      "-1.648354290644453\n"
     ]
    }
   ],
   "source": [
    "t = (x-y)/(sp * math.sqrt((1/12) + (1/8)))\n",
    "print(t)"
   ]
  },
  {
   "cell_type": "code",
   "execution_count": 123,
   "metadata": {},
   "outputs": [],
   "source": [
    "# Question 8.2.12\n",
    "\n",
    "grpa = np.array([55,61,33,57,17,46,50,42,71,51,63])\n",
    "grpb = np.array([31,27,12,44,9,25,34,53,33,21,32])"
   ]
  },
  {
   "cell_type": "code",
   "execution_count": 124,
   "metadata": {},
   "outputs": [
    {
     "name": "stdout",
     "output_type": "stream",
     "text": [
      "11 11\n"
     ]
    }
   ],
   "source": [
    "print(len(grpa), len(grpb))"
   ]
  },
  {
   "cell_type": "code",
   "execution_count": 125,
   "metadata": {},
   "outputs": [
    {
     "name": "stdout",
     "output_type": "stream",
     "text": [
      "49.63636363636363 29.181818181818183\n"
     ]
    }
   ],
   "source": [
    "print(grpa.mean(), grpb.mean())"
   ]
  },
  {
   "cell_type": "code",
   "execution_count": 127,
   "metadata": {},
   "outputs": [
    {
     "data": {
      "text/plain": [
       "71"
      ]
     },
     "execution_count": 127,
     "metadata": {},
     "output_type": "execute_result"
    }
   ],
   "source": [
    "grpa.max()"
   ]
  },
  {
   "cell_type": "code",
   "execution_count": null,
   "metadata": {},
   "outputs": [],
   "source": [
    "\n"
   ]
  }
 ],
 "metadata": {
  "kernelspec": {
   "display_name": "Python 3",
   "language": "python",
   "name": "python3"
  },
  "language_info": {
   "codemirror_mode": {
    "name": "ipython",
    "version": 3
   },
   "file_extension": ".py",
   "mimetype": "text/x-python",
   "name": "python",
   "nbconvert_exporter": "python",
   "pygments_lexer": "ipython3",
   "version": "3.8.3"
  }
 },
 "nbformat": 4,
 "nbformat_minor": 4
}
